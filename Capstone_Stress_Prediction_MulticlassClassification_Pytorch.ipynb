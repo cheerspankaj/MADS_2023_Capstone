{
 "cells": [
  {
   "cell_type": "markdown",
   "id": "63754b30",
   "metadata": {},
   "source": [
    "##### Install Libraries\n",
    "\n",
    "* Please uncomment the code below to install Pytorch before running this notebook first time in the new environment."
   ]
  },
  {
   "cell_type": "code",
   "execution_count": 1,
   "id": "172b98c9",
   "metadata": {},
   "outputs": [],
   "source": [
    "# !pip install torch"
   ]
  },
  {
   "cell_type": "code",
   "execution_count": 2,
   "id": "89e722db",
   "metadata": {},
   "outputs": [],
   "source": [
    "import pandas as pd\n",
    "import numpy as np\n",
    "import warnings\n",
    "warnings.filterwarnings('ignore')\n",
    "import Capstone_Utilities as utility\n",
    "\n",
    "import torch\n",
    "import torch.nn as nn\n",
    "import torch.optim as optim\n",
    "from torch.utils.data import Dataset, DataLoader,WeightedRandomSampler\n",
    "device = torch.device(\"cuda:0\" if torch.cuda.is_available() else \"cpu\")\n",
    "\n",
    "from sklearn.model_selection import train_test_split\n",
    "from sklearn.preprocessing import StandardScaler,MinMaxScaler\n",
    "from sklearn.metrics import confusion_matrix, classification_report\n",
    "\n",
    "import torch.nn.functional as F\n",
    "import matplotlib.pyplot as plt\n",
    "import seaborn as sns\n",
    "from tqdm.notebook import tqdm\n",
    "import random"
   ]
  },
  {
   "cell_type": "markdown",
   "id": "50213583",
   "metadata": {},
   "source": [
    "### Loading ML dataset"
   ]
  },
  {
   "cell_type": "code",
   "execution_count": 3,
   "id": "18f09641",
   "metadata": {},
   "outputs": [
    {
     "name": "stdout",
     "output_type": "stream",
     "text": [
      "dataset for ML: (718277, 87)\n"
     ]
    },
    {
     "data": {
      "text/html": [
       "<div>\n",
       "<style scoped>\n",
       "    .dataframe tbody tr th:only-of-type {\n",
       "        vertical-align: middle;\n",
       "    }\n",
       "\n",
       "    .dataframe tbody tr th {\n",
       "        vertical-align: top;\n",
       "    }\n",
       "\n",
       "    .dataframe thead th {\n",
       "        text-align: right;\n",
       "    }\n",
       "</style>\n",
       "<table border=\"1\" class=\"dataframe\">\n",
       "  <thead>\n",
       "    <tr style=\"text-align: right;\">\n",
       "      <th></th>\n",
       "      <th>ACC_1</th>\n",
       "      <th>ACC_2</th>\n",
       "      <th>ACC_3</th>\n",
       "      <th>ECG</th>\n",
       "      <th>EMG</th>\n",
       "      <th>EDA</th>\n",
       "      <th>Temp</th>\n",
       "      <th>Resp</th>\n",
       "      <th>age</th>\n",
       "      <th>height</th>\n",
       "      <th>...</th>\n",
       "      <th>tonic_peaks</th>\n",
       "      <th>tonic_rms</th>\n",
       "      <th>phasic_mean</th>\n",
       "      <th>phasic_std</th>\n",
       "      <th>phasic_min</th>\n",
       "      <th>phasic_max</th>\n",
       "      <th>phasic_energy</th>\n",
       "      <th>phasic_peaks</th>\n",
       "      <th>phasic_rms</th>\n",
       "      <th>label</th>\n",
       "    </tr>\n",
       "  </thead>\n",
       "  <tbody>\n",
       "    <tr>\n",
       "      <th>0</th>\n",
       "      <td>0.889131</td>\n",
       "      <td>-0.104177</td>\n",
       "      <td>-0.254086</td>\n",
       "      <td>0.052203</td>\n",
       "      <td>0.000302</td>\n",
       "      <td>5.712509</td>\n",
       "      <td>29.119919</td>\n",
       "      <td>1.025521</td>\n",
       "      <td>27.0</td>\n",
       "      <td>175.0</td>\n",
       "      <td>...</td>\n",
       "      <td>27.0</td>\n",
       "      <td>12.093175</td>\n",
       "      <td>7.010534</td>\n",
       "      <td>12.596496</td>\n",
       "      <td>0.0</td>\n",
       "      <td>85.473764</td>\n",
       "      <td>1.492718e+08</td>\n",
       "      <td>41.0</td>\n",
       "      <td>14.415939</td>\n",
       "      <td>1</td>\n",
       "    </tr>\n",
       "    <tr>\n",
       "      <th>1</th>\n",
       "      <td>0.889731</td>\n",
       "      <td>-0.100206</td>\n",
       "      <td>-0.242897</td>\n",
       "      <td>0.076138</td>\n",
       "      <td>-0.005188</td>\n",
       "      <td>5.707354</td>\n",
       "      <td>29.119755</td>\n",
       "      <td>0.710013</td>\n",
       "      <td>27.0</td>\n",
       "      <td>175.0</td>\n",
       "      <td>...</td>\n",
       "      <td>27.0</td>\n",
       "      <td>12.093175</td>\n",
       "      <td>7.010534</td>\n",
       "      <td>12.596496</td>\n",
       "      <td>0.0</td>\n",
       "      <td>85.473764</td>\n",
       "      <td>1.492718e+08</td>\n",
       "      <td>41.0</td>\n",
       "      <td>14.415939</td>\n",
       "      <td>1</td>\n",
       "    </tr>\n",
       "    <tr>\n",
       "      <th>2</th>\n",
       "      <td>0.893480</td>\n",
       "      <td>-0.103223</td>\n",
       "      <td>-0.248234</td>\n",
       "      <td>0.073135</td>\n",
       "      <td>-0.003722</td>\n",
       "      <td>5.698667</td>\n",
       "      <td>29.125584</td>\n",
       "      <td>0.327802</td>\n",
       "      <td>27.0</td>\n",
       "      <td>175.0</td>\n",
       "      <td>...</td>\n",
       "      <td>27.0</td>\n",
       "      <td>12.093175</td>\n",
       "      <td>7.010534</td>\n",
       "      <td>12.596496</td>\n",
       "      <td>0.0</td>\n",
       "      <td>85.473764</td>\n",
       "      <td>1.492718e+08</td>\n",
       "      <td>41.0</td>\n",
       "      <td>14.415939</td>\n",
       "      <td>1</td>\n",
       "    </tr>\n",
       "    <tr>\n",
       "      <th>3</th>\n",
       "      <td>0.878366</td>\n",
       "      <td>-0.113154</td>\n",
       "      <td>-0.236754</td>\n",
       "      <td>0.054067</td>\n",
       "      <td>0.000221</td>\n",
       "      <td>5.692651</td>\n",
       "      <td>29.133441</td>\n",
       "      <td>-0.066877</td>\n",
       "      <td>27.0</td>\n",
       "      <td>175.0</td>\n",
       "      <td>...</td>\n",
       "      <td>27.0</td>\n",
       "      <td>12.093175</td>\n",
       "      <td>7.010534</td>\n",
       "      <td>12.596496</td>\n",
       "      <td>0.0</td>\n",
       "      <td>85.473764</td>\n",
       "      <td>1.492718e+08</td>\n",
       "      <td>41.0</td>\n",
       "      <td>14.415939</td>\n",
       "      <td>1</td>\n",
       "    </tr>\n",
       "    <tr>\n",
       "      <th>4</th>\n",
       "      <td>0.890411</td>\n",
       "      <td>-0.117394</td>\n",
       "      <td>-0.238989</td>\n",
       "      <td>0.058294</td>\n",
       "      <td>-0.003258</td>\n",
       "      <td>5.685992</td>\n",
       "      <td>29.122919</td>\n",
       "      <td>-0.490505</td>\n",
       "      <td>27.0</td>\n",
       "      <td>175.0</td>\n",
       "      <td>...</td>\n",
       "      <td>27.0</td>\n",
       "      <td>12.093175</td>\n",
       "      <td>7.010534</td>\n",
       "      <td>12.596496</td>\n",
       "      <td>0.0</td>\n",
       "      <td>85.473764</td>\n",
       "      <td>1.492718e+08</td>\n",
       "      <td>41.0</td>\n",
       "      <td>14.415939</td>\n",
       "      <td>1</td>\n",
       "    </tr>\n",
       "  </tbody>\n",
       "</table>\n",
       "<p>5 rows × 87 columns</p>\n",
       "</div>"
      ],
      "text/plain": [
       "      ACC_1     ACC_2     ACC_3       ECG       EMG       EDA       Temp  \\\n",
       "0  0.889131 -0.104177 -0.254086  0.052203  0.000302  5.712509  29.119919   \n",
       "1  0.889731 -0.100206 -0.242897  0.076138 -0.005188  5.707354  29.119755   \n",
       "2  0.893480 -0.103223 -0.248234  0.073135 -0.003722  5.698667  29.125584   \n",
       "3  0.878366 -0.113154 -0.236754  0.054067  0.000221  5.692651  29.133441   \n",
       "4  0.890411 -0.117394 -0.238989  0.058294 -0.003258  5.685992  29.122919   \n",
       "\n",
       "       Resp   age  height  ...  tonic_peaks  tonic_rms  phasic_mean  \\\n",
       "0  1.025521  27.0   175.0  ...         27.0  12.093175     7.010534   \n",
       "1  0.710013  27.0   175.0  ...         27.0  12.093175     7.010534   \n",
       "2  0.327802  27.0   175.0  ...         27.0  12.093175     7.010534   \n",
       "3 -0.066877  27.0   175.0  ...         27.0  12.093175     7.010534   \n",
       "4 -0.490505  27.0   175.0  ...         27.0  12.093175     7.010534   \n",
       "\n",
       "   phasic_std  phasic_min  phasic_max  phasic_energy  phasic_peaks  \\\n",
       "0   12.596496         0.0   85.473764   1.492718e+08          41.0   \n",
       "1   12.596496         0.0   85.473764   1.492718e+08          41.0   \n",
       "2   12.596496         0.0   85.473764   1.492718e+08          41.0   \n",
       "3   12.596496         0.0   85.473764   1.492718e+08          41.0   \n",
       "4   12.596496         0.0   85.473764   1.492718e+08          41.0   \n",
       "\n",
       "   phasic_rms  label  \n",
       "0   14.415939      1  \n",
       "1   14.415939      1  \n",
       "2   14.415939      1  \n",
       "3   14.415939      1  \n",
       "4   14.415939      1  \n",
       "\n",
       "[5 rows x 87 columns]"
      ]
     },
     "execution_count": 3,
     "metadata": {},
     "output_type": "execute_result"
    }
   ],
   "source": [
    "datafile_name = 'Capstone_final_dataset_for_ml_50ms.csv'\n",
    "data = pd.read_csv(datafile_name,index_col=0)\n",
    "print('dataset for ML:',data.shape)\n",
    "data.head()"
   ]
  },
  {
   "cell_type": "markdown",
   "id": "a17a9952",
   "metadata": {},
   "source": [
    "#### Convert/map labels from 0 to 3 \n",
    "* PyTorch supports labels starting from 0. That is [0, n]. We need to remap our labels to start from 0\n",
    "* Labels in the Dataset are:1 for Baseline, 2 for Stress, 3 for Amusement and 4 for Meditation"
   ]
  },
  {
   "cell_type": "code",
   "execution_count": 4,
   "id": "bae8f8d5",
   "metadata": {},
   "outputs": [
    {
     "name": "stdout",
     "output_type": "stream",
     "text": [
      "[1 2 3 4]\n"
     ]
    }
   ],
   "source": [
    "print(data.label.unique())"
   ]
  },
  {
   "cell_type": "code",
   "execution_count": 5,
   "id": "5025aa7f",
   "metadata": {},
   "outputs": [
    {
     "name": "stdout",
     "output_type": "stream",
     "text": [
      "[0 1 2 3]\n"
     ]
    },
    {
     "data": {
      "text/html": [
       "<div>\n",
       "<style scoped>\n",
       "    .dataframe tbody tr th:only-of-type {\n",
       "        vertical-align: middle;\n",
       "    }\n",
       "\n",
       "    .dataframe tbody tr th {\n",
       "        vertical-align: top;\n",
       "    }\n",
       "\n",
       "    .dataframe thead th {\n",
       "        text-align: right;\n",
       "    }\n",
       "</style>\n",
       "<table border=\"1\" class=\"dataframe\">\n",
       "  <thead>\n",
       "    <tr style=\"text-align: right;\">\n",
       "      <th></th>\n",
       "      <th>ACC_1</th>\n",
       "      <th>ACC_2</th>\n",
       "      <th>ACC_3</th>\n",
       "      <th>ECG</th>\n",
       "      <th>EMG</th>\n",
       "      <th>EDA</th>\n",
       "      <th>Temp</th>\n",
       "      <th>Resp</th>\n",
       "      <th>age</th>\n",
       "      <th>height</th>\n",
       "      <th>...</th>\n",
       "      <th>tonic_peaks</th>\n",
       "      <th>tonic_rms</th>\n",
       "      <th>phasic_mean</th>\n",
       "      <th>phasic_std</th>\n",
       "      <th>phasic_min</th>\n",
       "      <th>phasic_max</th>\n",
       "      <th>phasic_energy</th>\n",
       "      <th>phasic_peaks</th>\n",
       "      <th>phasic_rms</th>\n",
       "      <th>label</th>\n",
       "    </tr>\n",
       "  </thead>\n",
       "  <tbody>\n",
       "    <tr>\n",
       "      <th>0</th>\n",
       "      <td>0.889131</td>\n",
       "      <td>-0.104177</td>\n",
       "      <td>-0.254086</td>\n",
       "      <td>0.052203</td>\n",
       "      <td>0.000302</td>\n",
       "      <td>5.712509</td>\n",
       "      <td>29.119919</td>\n",
       "      <td>1.025521</td>\n",
       "      <td>27.0</td>\n",
       "      <td>175.0</td>\n",
       "      <td>...</td>\n",
       "      <td>27.0</td>\n",
       "      <td>12.093175</td>\n",
       "      <td>7.010534</td>\n",
       "      <td>12.596496</td>\n",
       "      <td>0.0</td>\n",
       "      <td>85.473764</td>\n",
       "      <td>1.492718e+08</td>\n",
       "      <td>41.0</td>\n",
       "      <td>14.415939</td>\n",
       "      <td>0</td>\n",
       "    </tr>\n",
       "    <tr>\n",
       "      <th>1</th>\n",
       "      <td>0.889731</td>\n",
       "      <td>-0.100206</td>\n",
       "      <td>-0.242897</td>\n",
       "      <td>0.076138</td>\n",
       "      <td>-0.005188</td>\n",
       "      <td>5.707354</td>\n",
       "      <td>29.119755</td>\n",
       "      <td>0.710013</td>\n",
       "      <td>27.0</td>\n",
       "      <td>175.0</td>\n",
       "      <td>...</td>\n",
       "      <td>27.0</td>\n",
       "      <td>12.093175</td>\n",
       "      <td>7.010534</td>\n",
       "      <td>12.596496</td>\n",
       "      <td>0.0</td>\n",
       "      <td>85.473764</td>\n",
       "      <td>1.492718e+08</td>\n",
       "      <td>41.0</td>\n",
       "      <td>14.415939</td>\n",
       "      <td>0</td>\n",
       "    </tr>\n",
       "    <tr>\n",
       "      <th>2</th>\n",
       "      <td>0.893480</td>\n",
       "      <td>-0.103223</td>\n",
       "      <td>-0.248234</td>\n",
       "      <td>0.073135</td>\n",
       "      <td>-0.003722</td>\n",
       "      <td>5.698667</td>\n",
       "      <td>29.125584</td>\n",
       "      <td>0.327802</td>\n",
       "      <td>27.0</td>\n",
       "      <td>175.0</td>\n",
       "      <td>...</td>\n",
       "      <td>27.0</td>\n",
       "      <td>12.093175</td>\n",
       "      <td>7.010534</td>\n",
       "      <td>12.596496</td>\n",
       "      <td>0.0</td>\n",
       "      <td>85.473764</td>\n",
       "      <td>1.492718e+08</td>\n",
       "      <td>41.0</td>\n",
       "      <td>14.415939</td>\n",
       "      <td>0</td>\n",
       "    </tr>\n",
       "    <tr>\n",
       "      <th>3</th>\n",
       "      <td>0.878366</td>\n",
       "      <td>-0.113154</td>\n",
       "      <td>-0.236754</td>\n",
       "      <td>0.054067</td>\n",
       "      <td>0.000221</td>\n",
       "      <td>5.692651</td>\n",
       "      <td>29.133441</td>\n",
       "      <td>-0.066877</td>\n",
       "      <td>27.0</td>\n",
       "      <td>175.0</td>\n",
       "      <td>...</td>\n",
       "      <td>27.0</td>\n",
       "      <td>12.093175</td>\n",
       "      <td>7.010534</td>\n",
       "      <td>12.596496</td>\n",
       "      <td>0.0</td>\n",
       "      <td>85.473764</td>\n",
       "      <td>1.492718e+08</td>\n",
       "      <td>41.0</td>\n",
       "      <td>14.415939</td>\n",
       "      <td>0</td>\n",
       "    </tr>\n",
       "    <tr>\n",
       "      <th>4</th>\n",
       "      <td>0.890411</td>\n",
       "      <td>-0.117394</td>\n",
       "      <td>-0.238989</td>\n",
       "      <td>0.058294</td>\n",
       "      <td>-0.003258</td>\n",
       "      <td>5.685992</td>\n",
       "      <td>29.122919</td>\n",
       "      <td>-0.490505</td>\n",
       "      <td>27.0</td>\n",
       "      <td>175.0</td>\n",
       "      <td>...</td>\n",
       "      <td>27.0</td>\n",
       "      <td>12.093175</td>\n",
       "      <td>7.010534</td>\n",
       "      <td>12.596496</td>\n",
       "      <td>0.0</td>\n",
       "      <td>85.473764</td>\n",
       "      <td>1.492718e+08</td>\n",
       "      <td>41.0</td>\n",
       "      <td>14.415939</td>\n",
       "      <td>0</td>\n",
       "    </tr>\n",
       "  </tbody>\n",
       "</table>\n",
       "<p>5 rows × 87 columns</p>\n",
       "</div>"
      ],
      "text/plain": [
       "      ACC_1     ACC_2     ACC_3       ECG       EMG       EDA       Temp  \\\n",
       "0  0.889131 -0.104177 -0.254086  0.052203  0.000302  5.712509  29.119919   \n",
       "1  0.889731 -0.100206 -0.242897  0.076138 -0.005188  5.707354  29.119755   \n",
       "2  0.893480 -0.103223 -0.248234  0.073135 -0.003722  5.698667  29.125584   \n",
       "3  0.878366 -0.113154 -0.236754  0.054067  0.000221  5.692651  29.133441   \n",
       "4  0.890411 -0.117394 -0.238989  0.058294 -0.003258  5.685992  29.122919   \n",
       "\n",
       "       Resp   age  height  ...  tonic_peaks  tonic_rms  phasic_mean  \\\n",
       "0  1.025521  27.0   175.0  ...         27.0  12.093175     7.010534   \n",
       "1  0.710013  27.0   175.0  ...         27.0  12.093175     7.010534   \n",
       "2  0.327802  27.0   175.0  ...         27.0  12.093175     7.010534   \n",
       "3 -0.066877  27.0   175.0  ...         27.0  12.093175     7.010534   \n",
       "4 -0.490505  27.0   175.0  ...         27.0  12.093175     7.010534   \n",
       "\n",
       "   phasic_std  phasic_min  phasic_max  phasic_energy  phasic_peaks  \\\n",
       "0   12.596496         0.0   85.473764   1.492718e+08          41.0   \n",
       "1   12.596496         0.0   85.473764   1.492718e+08          41.0   \n",
       "2   12.596496         0.0   85.473764   1.492718e+08          41.0   \n",
       "3   12.596496         0.0   85.473764   1.492718e+08          41.0   \n",
       "4   12.596496         0.0   85.473764   1.492718e+08          41.0   \n",
       "\n",
       "   phasic_rms  label  \n",
       "0   14.415939      0  \n",
       "1   14.415939      0  \n",
       "2   14.415939      0  \n",
       "3   14.415939      0  \n",
       "4   14.415939      0  \n",
       "\n",
       "[5 rows x 87 columns]"
      ]
     },
     "execution_count": 5,
     "metadata": {},
     "output_type": "execute_result"
    }
   ],
   "source": [
    "class2idx = {1:0,2:1,3:2,4:3}\n",
    "\n",
    "idx2class = {v: k for k, v in class2idx.items()}\n",
    "\n",
    "data['label'].replace(class2idx, inplace=True)\n",
    "\n",
    "print(data.label.unique())\n",
    "\n",
    "data.head()"
   ]
  },
  {
   "cell_type": "code",
   "execution_count": 6,
   "id": "012b97d2",
   "metadata": {},
   "outputs": [
    {
     "name": "stdout",
     "output_type": "stream",
     "text": [
      "X_data.shape: (718277, 86)\n",
      "Y_data.shape: (718277,)\n"
     ]
    },
    {
     "data": {
      "text/html": [
       "<div>\n",
       "<style scoped>\n",
       "    .dataframe tbody tr th:only-of-type {\n",
       "        vertical-align: middle;\n",
       "    }\n",
       "\n",
       "    .dataframe tbody tr th {\n",
       "        vertical-align: top;\n",
       "    }\n",
       "\n",
       "    .dataframe thead th {\n",
       "        text-align: right;\n",
       "    }\n",
       "</style>\n",
       "<table border=\"1\" class=\"dataframe\">\n",
       "  <thead>\n",
       "    <tr style=\"text-align: right;\">\n",
       "      <th></th>\n",
       "      <th>ACC_1</th>\n",
       "      <th>ACC_2</th>\n",
       "      <th>ACC_3</th>\n",
       "      <th>ECG</th>\n",
       "      <th>EMG</th>\n",
       "      <th>EDA</th>\n",
       "      <th>Temp</th>\n",
       "      <th>Resp</th>\n",
       "      <th>age</th>\n",
       "      <th>height</th>\n",
       "      <th>...</th>\n",
       "      <th>tonic_energy</th>\n",
       "      <th>tonic_peaks</th>\n",
       "      <th>tonic_rms</th>\n",
       "      <th>phasic_mean</th>\n",
       "      <th>phasic_std</th>\n",
       "      <th>phasic_min</th>\n",
       "      <th>phasic_max</th>\n",
       "      <th>phasic_energy</th>\n",
       "      <th>phasic_peaks</th>\n",
       "      <th>phasic_rms</th>\n",
       "    </tr>\n",
       "  </thead>\n",
       "  <tbody>\n",
       "    <tr>\n",
       "      <th>0</th>\n",
       "      <td>0.889131</td>\n",
       "      <td>-0.104177</td>\n",
       "      <td>-0.254086</td>\n",
       "      <td>0.052203</td>\n",
       "      <td>0.000302</td>\n",
       "      <td>5.712509</td>\n",
       "      <td>29.119919</td>\n",
       "      <td>1.025521</td>\n",
       "      <td>27.0</td>\n",
       "      <td>175.0</td>\n",
       "      <td>...</td>\n",
       "      <td>1.050443e+08</td>\n",
       "      <td>27.0</td>\n",
       "      <td>12.093175</td>\n",
       "      <td>7.010534</td>\n",
       "      <td>12.596496</td>\n",
       "      <td>0.0</td>\n",
       "      <td>85.473764</td>\n",
       "      <td>1.492718e+08</td>\n",
       "      <td>41.0</td>\n",
       "      <td>14.415939</td>\n",
       "    </tr>\n",
       "    <tr>\n",
       "      <th>1</th>\n",
       "      <td>0.889731</td>\n",
       "      <td>-0.100206</td>\n",
       "      <td>-0.242897</td>\n",
       "      <td>0.076138</td>\n",
       "      <td>-0.005188</td>\n",
       "      <td>5.707354</td>\n",
       "      <td>29.119755</td>\n",
       "      <td>0.710013</td>\n",
       "      <td>27.0</td>\n",
       "      <td>175.0</td>\n",
       "      <td>...</td>\n",
       "      <td>1.050443e+08</td>\n",
       "      <td>27.0</td>\n",
       "      <td>12.093175</td>\n",
       "      <td>7.010534</td>\n",
       "      <td>12.596496</td>\n",
       "      <td>0.0</td>\n",
       "      <td>85.473764</td>\n",
       "      <td>1.492718e+08</td>\n",
       "      <td>41.0</td>\n",
       "      <td>14.415939</td>\n",
       "    </tr>\n",
       "    <tr>\n",
       "      <th>2</th>\n",
       "      <td>0.893480</td>\n",
       "      <td>-0.103223</td>\n",
       "      <td>-0.248234</td>\n",
       "      <td>0.073135</td>\n",
       "      <td>-0.003722</td>\n",
       "      <td>5.698667</td>\n",
       "      <td>29.125584</td>\n",
       "      <td>0.327802</td>\n",
       "      <td>27.0</td>\n",
       "      <td>175.0</td>\n",
       "      <td>...</td>\n",
       "      <td>1.050443e+08</td>\n",
       "      <td>27.0</td>\n",
       "      <td>12.093175</td>\n",
       "      <td>7.010534</td>\n",
       "      <td>12.596496</td>\n",
       "      <td>0.0</td>\n",
       "      <td>85.473764</td>\n",
       "      <td>1.492718e+08</td>\n",
       "      <td>41.0</td>\n",
       "      <td>14.415939</td>\n",
       "    </tr>\n",
       "    <tr>\n",
       "      <th>3</th>\n",
       "      <td>0.878366</td>\n",
       "      <td>-0.113154</td>\n",
       "      <td>-0.236754</td>\n",
       "      <td>0.054067</td>\n",
       "      <td>0.000221</td>\n",
       "      <td>5.692651</td>\n",
       "      <td>29.133441</td>\n",
       "      <td>-0.066877</td>\n",
       "      <td>27.0</td>\n",
       "      <td>175.0</td>\n",
       "      <td>...</td>\n",
       "      <td>1.050443e+08</td>\n",
       "      <td>27.0</td>\n",
       "      <td>12.093175</td>\n",
       "      <td>7.010534</td>\n",
       "      <td>12.596496</td>\n",
       "      <td>0.0</td>\n",
       "      <td>85.473764</td>\n",
       "      <td>1.492718e+08</td>\n",
       "      <td>41.0</td>\n",
       "      <td>14.415939</td>\n",
       "    </tr>\n",
       "    <tr>\n",
       "      <th>4</th>\n",
       "      <td>0.890411</td>\n",
       "      <td>-0.117394</td>\n",
       "      <td>-0.238989</td>\n",
       "      <td>0.058294</td>\n",
       "      <td>-0.003258</td>\n",
       "      <td>5.685992</td>\n",
       "      <td>29.122919</td>\n",
       "      <td>-0.490505</td>\n",
       "      <td>27.0</td>\n",
       "      <td>175.0</td>\n",
       "      <td>...</td>\n",
       "      <td>1.050443e+08</td>\n",
       "      <td>27.0</td>\n",
       "      <td>12.093175</td>\n",
       "      <td>7.010534</td>\n",
       "      <td>12.596496</td>\n",
       "      <td>0.0</td>\n",
       "      <td>85.473764</td>\n",
       "      <td>1.492718e+08</td>\n",
       "      <td>41.0</td>\n",
       "      <td>14.415939</td>\n",
       "    </tr>\n",
       "  </tbody>\n",
       "</table>\n",
       "<p>5 rows × 86 columns</p>\n",
       "</div>"
      ],
      "text/plain": [
       "      ACC_1     ACC_2     ACC_3       ECG       EMG       EDA       Temp  \\\n",
       "0  0.889131 -0.104177 -0.254086  0.052203  0.000302  5.712509  29.119919   \n",
       "1  0.889731 -0.100206 -0.242897  0.076138 -0.005188  5.707354  29.119755   \n",
       "2  0.893480 -0.103223 -0.248234  0.073135 -0.003722  5.698667  29.125584   \n",
       "3  0.878366 -0.113154 -0.236754  0.054067  0.000221  5.692651  29.133441   \n",
       "4  0.890411 -0.117394 -0.238989  0.058294 -0.003258  5.685992  29.122919   \n",
       "\n",
       "       Resp   age  height  ...  tonic_energy  tonic_peaks  tonic_rms  \\\n",
       "0  1.025521  27.0   175.0  ...  1.050443e+08         27.0  12.093175   \n",
       "1  0.710013  27.0   175.0  ...  1.050443e+08         27.0  12.093175   \n",
       "2  0.327802  27.0   175.0  ...  1.050443e+08         27.0  12.093175   \n",
       "3 -0.066877  27.0   175.0  ...  1.050443e+08         27.0  12.093175   \n",
       "4 -0.490505  27.0   175.0  ...  1.050443e+08         27.0  12.093175   \n",
       "\n",
       "   phasic_mean  phasic_std  phasic_min  phasic_max  phasic_energy  \\\n",
       "0     7.010534   12.596496         0.0   85.473764   1.492718e+08   \n",
       "1     7.010534   12.596496         0.0   85.473764   1.492718e+08   \n",
       "2     7.010534   12.596496         0.0   85.473764   1.492718e+08   \n",
       "3     7.010534   12.596496         0.0   85.473764   1.492718e+08   \n",
       "4     7.010534   12.596496         0.0   85.473764   1.492718e+08   \n",
       "\n",
       "   phasic_peaks  phasic_rms  \n",
       "0          41.0   14.415939  \n",
       "1          41.0   14.415939  \n",
       "2          41.0   14.415939  \n",
       "3          41.0   14.415939  \n",
       "4          41.0   14.415939  \n",
       "\n",
       "[5 rows x 86 columns]"
      ]
     },
     "metadata": {},
     "output_type": "display_data"
    }
   ],
   "source": [
    "# Create dataset for Model\n",
    "X_data = data.iloc[:,0:-1]\n",
    "y_data = data.iloc[:,-1]\n",
    "\n",
    "print('X_data.shape:',X_data.shape)\n",
    "print('Y_data.shape:',y_data.shape)\n",
    "display(X_data.head())"
   ]
  },
  {
   "cell_type": "markdown",
   "id": "5cd42570",
   "metadata": {},
   "source": [
    "##### Split data into train, validate and test sets"
   ]
  },
  {
   "cell_type": "code",
   "execution_count": 7,
   "id": "51d7d074",
   "metadata": {},
   "outputs": [
    {
     "name": "stdout",
     "output_type": "stream",
     "text": [
      "Traing Shape: (574621, 86) (574621,)\n",
      "Validation Shape: (71828, 86) (71828,)\n",
      "Testing Shape: (71828, 86) (71828,)\n"
     ]
    }
   ],
   "source": [
    "X_train,X_val,X_test,y_train,y_val,y_test = utility.split_data(X_data,y_data)\n",
    "\n",
    "print('Traing Shape:',X_train.shape,y_train.shape)\n",
    "print('Validation Shape:',X_val.shape,y_val.shape)\n",
    "print('Testing Shape:',X_test.shape,y_test.shape)"
   ]
  },
  {
   "cell_type": "markdown",
   "id": "7a354dba",
   "metadata": {},
   "source": [
    "##### Normalize Data"
   ]
  },
  {
   "cell_type": "code",
   "execution_count": 8,
   "id": "daab40da",
   "metadata": {},
   "outputs": [],
   "source": [
    "# Scale dataset before applying machine learning\n",
    "scaler = MinMaxScaler()\n",
    "X_train = scaler.fit_transform(X_train)\n",
    "X_val = scaler.transform(X_val)\n",
    "X_test = scaler.transform(X_test)\n",
    "\n",
    "X_train, y_train = np.array(X_train), np.array(y_train)\n",
    "X_val, y_val = np.array(X_val), np.array(y_val)\n",
    "X_test, y_test = np.array(X_test), np.array(y_test)"
   ]
  },
  {
   "cell_type": "markdown",
   "id": "7d9f940d",
   "metadata": {},
   "source": [
    "##### Visualize class distribution in train, val and test dataset"
   ]
  },
  {
   "cell_type": "code",
   "execution_count": 9,
   "id": "56de5431",
   "metadata": {},
   "outputs": [],
   "source": [
    "def get_class_distribution(obj):\n",
    "    count_dict = {\n",
    "        \"baseline_1\": 0,\n",
    "        \"stess_2\": 0,\n",
    "        \"amusement_3\": 0,\n",
    "        \"meditation_4\": 0\n",
    "    }\n",
    "    for i in obj:\n",
    "        if i == 0: \n",
    "            count_dict['baseline_1'] += 1\n",
    "        elif i == 1: \n",
    "            count_dict['stess_2'] += 1\n",
    "        elif i == 2: \n",
    "            count_dict['amusement_3'] += 1\n",
    "        elif i == 3: \n",
    "            count_dict['meditation_4'] += 1            \n",
    "        else:\n",
    "            print(\"Check classes.\")\n",
    "            \n",
    "    return count_dict"
   ]
  },
  {
   "cell_type": "code",
   "execution_count": 10,
   "id": "d0870a4a",
   "metadata": {},
   "outputs": [
    {
     "data": {
      "image/png": "[encoded data removed]",
      "text/plain": [
       "<Figure size 1800x504 with 3 Axes>"
      ]
     },
     "metadata": {
      "needs_background": "light"
     },
     "output_type": "display_data"
    }
   ],
   "source": [
    "fig, axes = plt.subplots(nrows=1, ncols=3, figsize=(25,7))\n",
    "# Train\n",
    "sns.barplot(data = pd.DataFrame.from_dict([get_class_distribution(y_train)]).melt(), \n",
    "            x = \"variable\", y=\"value\", hue=\"variable\",  ax=axes[0]).set_title('Class Distribution in Train Set')\n",
    "# Validation\n",
    "sns.barplot(data = pd.DataFrame.from_dict([get_class_distribution(y_val)]).melt(), \n",
    "            x = \"variable\", y=\"value\", hue=\"variable\",  ax=axes[1]).set_title('Class Distribution in Val Set')\n",
    "# Test\n",
    "sns.barplot(data = pd.DataFrame.from_dict([get_class_distribution(y_test)]).melt(), \n",
    "            x = \"variable\", y=\"value\", hue=\"variable\",  ax=axes[2]).set_title('Class Distribution in Test Set')\n",
    "plt.show()"
   ]
  },
  {
   "cell_type": "markdown",
   "id": "0d7a56bf",
   "metadata": {},
   "source": [
    "### Neural Network Modeling"
   ]
  },
  {
   "cell_type": "markdown",
   "id": "7d30f84e",
   "metadata": {},
   "source": [
    "#### Sensor Dataset\n",
    "This dataset will be used by the dataloader to pass the data into model. The X values need to in float while y values need to be in long format."
   ]
  },
  {
   "cell_type": "code",
   "execution_count": 11,
   "id": "e0052c0f",
   "metadata": {},
   "outputs": [],
   "source": [
    "class SensorDataset(Dataset):\n",
    "    \n",
    "    def __init__(self, X_data, y_data):\n",
    "        self.X_data = X_data\n",
    "        self.y_data = y_data\n",
    "        \n",
    "    def __getitem__(self, index):\n",
    "        x,y = self.X_data[index], self.y_data[index]\n",
    "        return x,y\n",
    "    \n",
    "    def __len__ (self):\n",
    "        return len(self.X_data)\n",
    "\n",
    "train_dataset = SensorDataset(torch.from_numpy(X_train).float(), torch.from_numpy(y_train).long())\n",
    "val_dataset = SensorDataset(torch.from_numpy(X_val).float(), torch.from_numpy(y_val).long())\n",
    "test_dataset = SensorDataset(torch.from_numpy(X_test).float(), torch.from_numpy(y_test).long())"
   ]
  },
  {
   "cell_type": "markdown",
   "id": "75477a28",
   "metadata": {},
   "source": [
    "##### Weighted Sampling\n",
    "\n",
    "As it is observed in the graph above that there is a class imbalance, and even though stratified split was used but still it does not ensure that each mini-batch of the model gets representation from all the classes.\n",
    "\n",
    "We need to over-sample the classes with less number of values using WeightedRandomSampler."
   ]
  },
  {
   "cell_type": "code",
   "execution_count": 12,
   "id": "7a2ea2c3",
   "metadata": {},
   "outputs": [
    {
     "name": "stdout",
     "output_type": "stream",
     "text": [
      "Target list length: 574621\n"
     ]
    }
   ],
   "source": [
    "target_list = []\n",
    "for _, t in train_dataset:\n",
    "    target_list.append(t)\n",
    "    \n",
    "target_list = torch.tensor(target_list)\n",
    "print('Target list length:',len(target_list))"
   ]
  },
  {
   "cell_type": "code",
   "execution_count": 13,
   "id": "6cbc45b6",
   "metadata": {},
   "outputs": [
    {
     "name": "stdout",
     "output_type": "stream",
     "text": [
      "tensor([4.2679e-06, 7.6389e-06, 1.4880e-05, 7.0325e-06])\n"
     ]
    }
   ],
   "source": [
    "class_count = [i for i in get_class_distribution(y_train).values()]\n",
    "class_weights = 1./torch.tensor(class_count, dtype=torch.float) \n",
    "print(class_weights)"
   ]
  },
  {
   "cell_type": "code",
   "execution_count": 14,
   "id": "e680af2b",
   "metadata": {},
   "outputs": [],
   "source": [
    "# assign weight for each sample\n",
    "class_weights_all = class_weights[target_list]"
   ]
  },
  {
   "cell_type": "code",
   "execution_count": 15,
   "id": "b2ce8643",
   "metadata": {},
   "outputs": [],
   "source": [
    "# Initialize weighted Random Sampler\n",
    "weighted_sampler = WeightedRandomSampler(\n",
    "    weights=class_weights_all,\n",
    "    num_samples=len(class_weights_all),\n",
    "    replacement=True\n",
    ")"
   ]
  },
  {
   "cell_type": "markdown",
   "id": "77cc7982",
   "metadata": {},
   "source": [
    "##### Neural Network Architecture\n",
    "\n",
    "* A simple 3-layer feed-forward network with dropout and batch-norm."
   ]
  },
  {
   "cell_type": "code",
   "execution_count": 16,
   "id": "0c63f920",
   "metadata": {},
   "outputs": [],
   "source": [
    "class MulticlassClassification(nn.Module):\n",
    "    def __init__(self, num_feature, num_class):\n",
    "        super(MulticlassClassification, self).__init__()\n",
    "        \n",
    "        self.layer_1 = nn.Linear(num_feature, 512)\n",
    "        self.layer_2 = nn.Linear(512, 128)\n",
    "        self.layer_3 = nn.Linear(128, 64)\n",
    "        self.layer_out = nn.Linear(64, num_class)  \n",
    "        \n",
    "        self.relu = nn.ReLU()\n",
    "        self.dropout = nn.Dropout(p=0.2)\n",
    "        self.batchnorm1 = nn.BatchNorm1d(512)\n",
    "        self.batchnorm2 = nn.BatchNorm1d(128)\n",
    "        self.batchnorm3 = nn.BatchNorm1d(64)\n",
    "        \n",
    "    def forward(self, x):\n",
    "        x = self.layer_1(x)\n",
    "        x = self.batchnorm1(x)\n",
    "        x = self.relu(x)\n",
    "        \n",
    "        x = self.layer_2(x)\n",
    "        x = self.batchnorm2(x)\n",
    "        x = self.relu(x)\n",
    "        x = self.dropout(x)\n",
    "        \n",
    "        x = self.layer_3(x)\n",
    "        x = self.batchnorm3(x)\n",
    "        x = self.relu(x)\n",
    "        x = self.dropout(x)\n",
    "        \n",
    "        x = self.layer_out(x)\n",
    "        \n",
    "        return x"
   ]
  },
  {
   "cell_type": "code",
   "execution_count": 17,
   "id": "1e37a819",
   "metadata": {},
   "outputs": [
    {
     "name": "stdout",
     "output_type": "stream",
     "text": [
      "cuda:0\n"
     ]
    }
   ],
   "source": [
    "device = torch.device(\"cuda:0\" if torch.cuda.is_available() else \"cpu\")\n",
    "print(device)"
   ]
  },
  {
   "cell_type": "markdown",
   "id": "489fc743",
   "metadata": {},
   "source": [
    "##### Calculate Accuracy\n",
    "This function takes y_pred and y_test as input arguments. We then apply log_softmax to y_pred and extract the class which has a higher probability.After that, we compare the the predicted classes and the actual classes to calculate the accuracy."
   ]
  },
  {
   "cell_type": "code",
   "execution_count": 28,
   "id": "3c76e2c8",
   "metadata": {},
   "outputs": [],
   "source": [
    "def multi_acc(y_pred, y_test):\n",
    "    y_pred_softmax = torch.log_softmax(y_pred, dim = 1)\n",
    "    _, y_pred_tags = torch.max(y_pred_softmax, dim = 1)    \n",
    "    \n",
    "    correct_pred = (y_pred_tags == y_test).float()\n",
    "    acc = correct_pred.sum() / len(correct_pred)\n",
    "    \n",
    "    acc = torch.round(acc * 100)\n",
    "    \n",
    "    return acc"
   ]
  },
  {
   "cell_type": "markdown",
   "id": "88a7e29a",
   "metadata": {},
   "source": [
    "##### Model Hyper Parameters\n",
    "\n",
    "Below code is commented post Hyper parameter tuning, please uncomment to run and determine the best hyper parameter values: Batch Size and Learning Rate."
   ]
  },
  {
   "cell_type": "code",
   "execution_count": 27,
   "id": "efc57b03",
   "metadata": {},
   "outputs": [],
   "source": [
    "# EPOCHS = 5\n",
    "# BATCH_SIZE = [8,32,64,128]\n",
    "# LEARNING_RATE = [0.0001,0.001,0.01]\n",
    "# NUM_FEATURES = len(X_data.columns)\n",
    "# NUM_CLASSES = 4 # four effective states label"
   ]
  },
  {
   "cell_type": "markdown",
   "id": "ebe9bd73",
   "metadata": {},
   "source": [
    "#### Initialize Model, Optimizer and Loss Function\n",
    "\n",
    "* Using the nn.CrossEntropyLoss because this is a multiclass classification problem. \n",
    "* No need to apply a log_softmax layer after our final layer because nn.CrossEntropyLoss does that for us. However, we need to apply log_softmax for our validation and testing."
   ]
  },
  {
   "cell_type": "code",
   "execution_count": 30,
   "id": "348b67d2",
   "metadata": {},
   "outputs": [],
   "source": [
    "# def best_nn_parameters_training_data(train_dataset,val_dataset):\n",
    "#     for learning_rate in LEARNING_RATE:\n",
    "#         for batch_size in BATCH_SIZE:\n",
    "            \n",
    "#             # initialize model\n",
    "#             model = MulticlassClassification(num_feature = NUM_FEATURES, num_class=NUM_CLASSES)\n",
    "#             model.to(device)\n",
    "#             criterion = nn.CrossEntropyLoss(weight=class_weights.to(device))\n",
    "#             optimizer = optim.Adam(model.parameters(), lr=learning_rate)\n",
    "            \n",
    "#             # get train, val and test loader\n",
    "#             train_loader = DataLoader(dataset=train_dataset,batch_size=batch_size,sampler=weighted_sampler)\n",
    "#             val_loader = DataLoader(dataset=val_dataset, batch_size=1)\n",
    "#             test_loader = DataLoader(dataset=test_dataset, batch_size=1)\n",
    "            \n",
    "#             print(\"++++++++++ Begin training.++++++++++++++++++\")\n",
    "#             print('Learning Rate: {} Batch Size: {}'.format(learning_rate,batch_size))\n",
    "                    \n",
    "#             for e in tqdm(range(1, EPOCHS+1)):\n",
    "    \n",
    "#                 # TRAINING\n",
    "#                 train_epoch_loss = 0\n",
    "#                 train_epoch_acc = 0\n",
    "#                 model.train()\n",
    "#                 for X_train_batch, y_train_batch in train_loader:\n",
    "                    \n",
    "#                     X_train_batch, y_train_batch = X_train_batch.to(device), y_train_batch.to(device)\n",
    "#                     optimizer.zero_grad()\n",
    "        \n",
    "#                     y_train_pred = model(X_train_batch)\n",
    "        \n",
    "#                     train_loss = criterion(y_train_pred, y_train_batch)\n",
    "#                     train_acc = multi_acc(y_train_pred, y_train_batch)\n",
    "        \n",
    "#                     train_loss.backward()\n",
    "#                     optimizer.step()\n",
    "        \n",
    "#                     train_epoch_loss += train_loss.item()\n",
    "#                     train_epoch_acc += train_acc.item()\n",
    "        \n",
    "        \n",
    "#                 # VALIDATION    \n",
    "#                 with torch.no_grad():\n",
    "        \n",
    "#                     val_epoch_loss = 0\n",
    "#                     val_epoch_acc = 0\n",
    "        \n",
    "#                     model.eval()\n",
    "#                     for X_val_batch, y_val_batch in val_loader:\n",
    "#                         X_val_batch, y_val_batch = X_val_batch.to(device), y_val_batch.to(device)\n",
    "#                         y_val_pred = model(X_val_batch)\n",
    "#                         val_loss = criterion(y_val_pred, y_val_batch)\n",
    "#                         val_acc = multi_acc(y_val_pred, y_val_batch)\n",
    "#                         val_epoch_loss += val_loss.item()\n",
    "#                         val_epoch_acc += val_acc.item()\n",
    "            \n",
    "#                 print(f'Epoch {e+0:03}:| Train Loss: {train_epoch_loss/len(train_loader):.5f}| Val Loss: {val_epoch_loss/len(val_loader):.5f}| Train Acc: {train_epoch_acc/len(train_loader):.3f}| Val Acc: {val_epoch_acc/len(val_loader):.3f}')"
   ]
  },
  {
   "cell_type": "code",
   "execution_count": 31,
   "id": "74b01332",
   "metadata": {},
   "outputs": [
    {
     "name": "stdout",
     "output_type": "stream",
     "text": [
      "++++++++++ Begin training.++++++++++++++++++\n",
      "Learning Rate: 0.0001 Batch Size: 8\n"
     ]
    },
    {
     "data": {
      "application/vnd.jupyter.widget-view+json": {
       "model_id": "2bf811bc703b400c9636fe70bed2d703",
       "version_major": 2,
       "version_minor": 0
      },
      "text/plain": [
       "HBox(children=(FloatProgress(value=0.0, max=5.0), HTML(value='')))"
      ]
     },
     "metadata": {},
     "output_type": "display_data"
    },
    {
     "name": "stdout",
     "output_type": "stream",
     "text": [
      "Epoch 001:| Train Loss: 0.25852| Val Loss: 12.01040| Train Acc: 90.168| Val Acc: 25.681\n",
      "Epoch 002:| Train Loss: 0.09337| Val Loss: 15.27359| Train Acc: 97.046| Val Acc: 31.354\n",
      "Epoch 003:| Train Loss: 0.06904| Val Loss: 19.07521| Train Acc: 97.911| Val Acc: 34.356\n",
      "Epoch 004:| Train Loss: 0.05611| Val Loss: 20.43775| Train Acc: 98.315| Val Acc: 29.108\n",
      "Epoch 005:| Train Loss: 0.04849| Val Loss: 19.07369| Train Acc: 98.558| Val Acc: 30.961\n",
      "\n",
      "++++++++++ Begin training.++++++++++++++++++\n",
      "Learning Rate: 0.0001 Batch Size: 32\n"
     ]
    },
    {
     "data": {
      "application/vnd.jupyter.widget-view+json": {
       "model_id": "014b90424ea44995ba0ba2d545e65251",
       "version_major": 2,
       "version_minor": 0
      },
      "text/plain": [
       "HBox(children=(FloatProgress(value=0.0, max=5.0), HTML(value='')))"
      ]
     },
     "metadata": {},
     "output_type": "display_data"
    },
    {
     "name": "stdout",
     "output_type": "stream",
     "text": [
      "Epoch 001:| Train Loss: 0.11949| Val Loss: 9.33514| Train Acc: 95.547| Val Acc: 28.223\n",
      "Epoch 002:| Train Loss: 0.02420| Val Loss: 11.53434| Train Acc: 99.232| Val Acc: 21.180\n",
      "Epoch 003:| Train Loss: 0.01581| Val Loss: 15.36699| Train Acc: 99.483| Val Acc: 26.815\n",
      "Epoch 004:| Train Loss: 0.01253| Val Loss: 17.31764| Train Acc: 99.599| Val Acc: 27.404\n",
      "Epoch 005:| Train Loss: 0.01061| Val Loss: 17.37468| Train Acc: 99.653| Val Acc: 27.221\n",
      "\n",
      "++++++++++ Begin training.++++++++++++++++++\n",
      "Learning Rate: 0.0001 Batch Size: 64\n"
     ]
    },
    {
     "data": {
      "application/vnd.jupyter.widget-view+json": {
       "model_id": "914b7ee302f342f3b5ad52309fea4246",
       "version_major": 2,
       "version_minor": 0
      },
      "text/plain": [
       "HBox(children=(FloatProgress(value=0.0, max=5.0), HTML(value='')))"
      ]
     },
     "metadata": {},
     "output_type": "display_data"
    },
    {
     "name": "stdout",
     "output_type": "stream",
     "text": [
      "Epoch 001:| Train Loss: 0.11619| Val Loss: 10.86227| Train Acc: 96.043| Val Acc: 25.672\n",
      "Epoch 002:| Train Loss: 0.01564| Val Loss: 11.30888| Train Acc: 99.419| Val Acc: 28.248\n",
      "Epoch 003:| Train Loss: 0.01054| Val Loss: 12.88456| Train Acc: 99.582| Val Acc: 31.318\n",
      "Epoch 004:| Train Loss: 0.00783| Val Loss: 16.90210| Train Acc: 99.688| Val Acc: 36.127\n",
      "Epoch 005:| Train Loss: 0.00684| Val Loss: 18.08061| Train Acc: 99.719| Val Acc: 24.820\n",
      "\n",
      "++++++++++ Begin training.++++++++++++++++++\n",
      "Learning Rate: 0.0001 Batch Size: 128\n"
     ]
    },
    {
     "data": {
      "application/vnd.jupyter.widget-view+json": {
       "model_id": "2ff931866c4944cdaac5bfd87d623857",
       "version_major": 2,
       "version_minor": 0
      },
      "text/plain": [
       "HBox(children=(FloatProgress(value=0.0, max=5.0), HTML(value='')))"
      ]
     },
     "metadata": {},
     "output_type": "display_data"
    },
    {
     "name": "stdout",
     "output_type": "stream",
     "text": [
      "Epoch 001:| Train Loss: 0.12563| Val Loss: 7.79906| Train Acc: 95.307| Val Acc: 27.265\n",
      "Epoch 002:| Train Loss: 0.01286| Val Loss: 10.53835| Train Acc: 99.554| Val Acc: 27.269\n",
      "Epoch 003:| Train Loss: 0.00824| Val Loss: 13.17637| Train Acc: 99.678| Val Acc: 28.197\n",
      "Epoch 004:| Train Loss: 0.00693| Val Loss: 14.46230| Train Acc: 99.725| Val Acc: 27.489\n",
      "Epoch 005:| Train Loss: 0.00600| Val Loss: 16.58064| Train Acc: 99.766| Val Acc: 27.390\n",
      "\n",
      "++++++++++ Begin training.++++++++++++++++++\n",
      "Learning Rate: 0.001 Batch Size: 8\n"
     ]
    },
    {
     "data": {
      "application/vnd.jupyter.widget-view+json": {
       "model_id": "3954bc981b67485aa78a1a2faec5d57b",
       "version_major": 2,
       "version_minor": 0
      },
      "text/plain": [
       "HBox(children=(FloatProgress(value=0.0, max=5.0), HTML(value='')))"
      ]
     },
     "metadata": {},
     "output_type": "display_data"
    },
    {
     "name": "stdout",
     "output_type": "stream",
     "text": [
      "Epoch 001:| Train Loss: 0.24796| Val Loss: 19.83212| Train Acc: 91.006| Val Acc: 18.490\n",
      "Epoch 002:| Train Loss: 0.11808| Val Loss: 16.70459| Train Acc: 96.317| Val Acc: 24.960\n",
      "Epoch 003:| Train Loss: 0.08794| Val Loss: 19.49171| Train Acc: 97.347| Val Acc: 21.542\n",
      "Epoch 004:| Train Loss: 0.07363| Val Loss: 12.23373| Train Acc: 97.850| Val Acc: 26.350\n",
      "Epoch 005:| Train Loss: 0.06491| Val Loss: 15.21932| Train Acc: 98.119| Val Acc: 34.379\n",
      "\n",
      "++++++++++ Begin training.++++++++++++++++++\n",
      "Learning Rate: 0.001 Batch Size: 32\n"
     ]
    },
    {
     "data": {
      "application/vnd.jupyter.widget-view+json": {
       "model_id": "a8d1114fde8a4fb2b75870ff9daa9c74",
       "version_major": 2,
       "version_minor": 0
      },
      "text/plain": [
       "HBox(children=(FloatProgress(value=0.0, max=5.0), HTML(value='')))"
      ]
     },
     "metadata": {},
     "output_type": "display_data"
    },
    {
     "name": "stdout",
     "output_type": "stream",
     "text": [
      "Epoch 001:| Train Loss: 0.08550| Val Loss: 16.39973| Train Acc: 96.797| Val Acc: 18.490\n",
      "Epoch 002:| Train Loss: 0.02833| Val Loss: 22.71163| Train Acc: 99.108| Val Acc: 27.297\n",
      "Epoch 003:| Train Loss: 0.01990| Val Loss: 21.54022| Train Acc: 99.344| Val Acc: 28.486\n",
      "Epoch 004:| Train Loss: 0.01543| Val Loss: 28.61303| Train Acc: 99.494| Val Acc: 25.702\n",
      "Epoch 005:| Train Loss: 0.01344| Val Loss: 22.52461| Train Acc: 99.559| Val Acc: 28.173\n",
      "\n",
      "++++++++++ Begin training.++++++++++++++++++\n",
      "Learning Rate: 0.001 Batch Size: 64\n"
     ]
    },
    {
     "data": {
      "application/vnd.jupyter.widget-view+json": {
       "model_id": "7cff80019f7f468c93b31a857981be03",
       "version_major": 2,
       "version_minor": 0
      },
      "text/plain": [
       "HBox(children=(FloatProgress(value=0.0, max=5.0), HTML(value='')))"
      ]
     },
     "metadata": {},
     "output_type": "display_data"
    },
    {
     "name": "stdout",
     "output_type": "stream",
     "text": [
      "Epoch 001:| Train Loss: 0.06570| Val Loss: 12.77741| Train Acc: 97.394| Val Acc: 24.912\n",
      "Epoch 002:| Train Loss: 0.01948| Val Loss: 12.08444| Train Acc: 99.233| Val Acc: 28.213\n",
      "Epoch 003:| Train Loss: 0.01353| Val Loss: 21.51860| Train Acc: 99.474| Val Acc: 24.648\n",
      "Epoch 004:| Train Loss: 0.01028| Val Loss: 26.42848| Train Acc: 99.586| Val Acc: 21.932\n",
      "Epoch 005:| Train Loss: 0.00860| Val Loss: 28.01353| Train Acc: 99.645| Val Acc: 25.823\n",
      "\n",
      "++++++++++ Begin training.++++++++++++++++++\n",
      "Learning Rate: 0.001 Batch Size: 128\n"
     ]
    },
    {
     "data": {
      "application/vnd.jupyter.widget-view+json": {
       "model_id": "7dd4efd914a14156a5f765edf6285dfa",
       "version_major": 2,
       "version_minor": 0
      },
      "text/plain": [
       "HBox(children=(FloatProgress(value=0.0, max=5.0), HTML(value='')))"
      ]
     },
     "metadata": {},
     "output_type": "display_data"
    },
    {
     "name": "stdout",
     "output_type": "stream",
     "text": [
      "Epoch 001:| Train Loss: 0.05896| Val Loss: 12.41507| Train Acc: 97.583| Val Acc: 27.386\n",
      "Epoch 002:| Train Loss: 0.01505| Val Loss: 15.98821| Train Acc: 99.419| Val Acc: 25.714\n",
      "Epoch 003:| Train Loss: 0.01036| Val Loss: 17.25846| Train Acc: 99.577| Val Acc: 27.893\n",
      "Epoch 004:| Train Loss: 0.00866| Val Loss: 19.39528| Train Acc: 99.637| Val Acc: 25.645\n",
      "Epoch 005:| Train Loss: 0.00687| Val Loss: 29.28958| Train Acc: 99.712| Val Acc: 25.741\n",
      "\n",
      "++++++++++ Begin training.++++++++++++++++++\n",
      "Learning Rate: 0.01 Batch Size: 8\n"
     ]
    },
    {
     "data": {
      "application/vnd.jupyter.widget-view+json": {
       "model_id": "fdf1f0c40ee7443086cf54ced5949345",
       "version_major": 2,
       "version_minor": 0
      },
      "text/plain": [
       "HBox(children=(FloatProgress(value=0.0, max=5.0), HTML(value='')))"
      ]
     },
     "metadata": {},
     "output_type": "display_data"
    },
    {
     "name": "stdout",
     "output_type": "stream",
     "text": [
      "Epoch 001:| Train Loss: 0.35345| Val Loss: 9.85243| Train Acc: 86.341| Val Acc: 30.009\n",
      "Epoch 002:| Train Loss: 0.18163| Val Loss: 11.05412| Train Acc: 94.059| Val Acc: 25.931\n",
      "Epoch 003:| Train Loss: 0.14139| Val Loss: 16.92841| Train Acc: 95.510| Val Acc: 27.848\n",
      "Epoch 004:| Train Loss: 0.12022| Val Loss: 26.19610| Train Acc: 96.290| Val Acc: 20.587\n",
      "Epoch 005:| Train Loss: 0.10606| Val Loss: 25.60307| Train Acc: 96.784| Val Acc: 18.589\n",
      "\n",
      "++++++++++ Begin training.++++++++++++++++++\n",
      "Learning Rate: 0.01 Batch Size: 32\n"
     ]
    },
    {
     "data": {
      "application/vnd.jupyter.widget-view+json": {
       "model_id": "48790e5e85944fd8931d0f2a9f7ca918",
       "version_major": 2,
       "version_minor": 0
      },
      "text/plain": [
       "HBox(children=(FloatProgress(value=0.0, max=5.0), HTML(value='')))"
      ]
     },
     "metadata": {},
     "output_type": "display_data"
    },
    {
     "name": "stdout",
     "output_type": "stream",
     "text": [
      "Epoch 001:| Train Loss: 0.11987| Val Loss: 18.66579| Train Acc: 95.497| Val Acc: 18.490\n",
      "Epoch 002:| Train Loss: 0.04165| Val Loss: 21.89272| Train Acc: 98.686| Val Acc: 26.909\n",
      "Epoch 003:| Train Loss: 0.03046| Val Loss: 31.17950| Train Acc: 99.045| Val Acc: 25.820\n",
      "Epoch 004:| Train Loss: 0.02525| Val Loss: 32.73470| Train Acc: 99.225| Val Acc: 25.887\n",
      "Epoch 005:| Train Loss: 0.02137| Val Loss: 33.34897| Train Acc: 99.359| Val Acc: 27.684\n",
      "\n",
      "++++++++++ Begin training.++++++++++++++++++\n",
      "Learning Rate: 0.01 Batch Size: 64\n"
     ]
    },
    {
     "data": {
      "application/vnd.jupyter.widget-view+json": {
       "model_id": "e0589652aba342bc8b598090bbc07f68",
       "version_major": 2,
       "version_minor": 0
      },
      "text/plain": [
       "HBox(children=(FloatProgress(value=0.0, max=5.0), HTML(value='')))"
      ]
     },
     "metadata": {},
     "output_type": "display_data"
    },
    {
     "name": "stdout",
     "output_type": "stream",
     "text": [
      "Epoch 001:| Train Loss: 0.09062| Val Loss: 12.53478| Train Acc: 96.330| Val Acc: 25.537\n",
      "Epoch 002:| Train Loss: 0.02798| Val Loss: 18.84486| Train Acc: 98.944| Val Acc: 28.198\n",
      "Epoch 003:| Train Loss: 0.01901| Val Loss: 26.70067| Train Acc: 99.293| Val Acc: 27.449\n",
      "Epoch 004:| Train Loss: 0.01650| Val Loss: 33.67975| Train Acc: 99.375| Val Acc: 28.213\n",
      "Epoch 005:| Train Loss: 0.01363| Val Loss: 44.21126| Train Acc: 99.467| Val Acc: 25.734\n",
      "\n",
      "++++++++++ Begin training.++++++++++++++++++\n",
      "Learning Rate: 0.01 Batch Size: 128\n"
     ]
    },
    {
     "data": {
      "application/vnd.jupyter.widget-view+json": {
       "model_id": "3cfe3848898c4caa81339ef27f3fd0ee",
       "version_major": 2,
       "version_minor": 0
      },
      "text/plain": [
       "HBox(children=(FloatProgress(value=0.0, max=5.0), HTML(value='')))"
      ]
     },
     "metadata": {},
     "output_type": "display_data"
    },
    {
     "name": "stdout",
     "output_type": "stream",
     "text": [
      "Epoch 001:| Train Loss: 0.07328| Val Loss: 11.09840| Train Acc: 96.944| Val Acc: 24.701\n",
      "Epoch 002:| Train Loss: 0.02323| Val Loss: 17.94450| Train Acc: 99.173| Val Acc: 24.393\n",
      "Epoch 003:| Train Loss: 0.01487| Val Loss: 23.73829| Train Acc: 99.423| Val Acc: 25.741\n",
      "Epoch 004:| Train Loss: 0.01258| Val Loss: 40.59099| Train Acc: 99.513| Val Acc: 25.853\n",
      "Epoch 005:| Train Loss: 0.01045| Val Loss: 42.86342| Train Acc: 99.580| Val Acc: 25.759\n",
      "\n"
     ]
    }
   ],
   "source": [
    "# best_nn_parameters_training_data(train_dataset,val_dataset)"
   ]
  },
  {
   "cell_type": "markdown",
   "id": "b4974fb5",
   "metadata": {},
   "source": [
    "#### Model Best Parameters\n",
    "\n",
    "From Hyperparameter tuning, below found as the best hyper parameters for model to train and test\n",
    "\n",
    "Learning Rate: 0.0001 Batch Size: 64"
   ]
  },
  {
   "cell_type": "markdown",
   "id": "60f2b5ac",
   "metadata": {},
   "source": [
    "#### Model Final Training using best hyper parameters value"
   ]
  },
  {
   "cell_type": "code",
   "execution_count": 32,
   "id": "e59b7554",
   "metadata": {},
   "outputs": [],
   "source": [
    "EPOCHS = 10\n",
    "BATCH_SIZE = 64\n",
    "LEARNING_RATE = 0.0001\n",
    "NUM_FEATURES = len(X_data.columns)\n",
    "NUM_CLASSES = 4 # four effective states label\n",
    "\n",
    "train_loader = DataLoader(dataset=train_dataset,batch_size=BATCH_SIZE,sampler=weighted_sampler)\n",
    "\n",
    "val_loader = DataLoader(dataset=val_dataset, batch_size=1)\n",
    "\n",
    "test_loader = DataLoader(dataset=test_dataset, batch_size=1)"
   ]
  },
  {
   "cell_type": "code",
   "execution_count": 33,
   "id": "2bb22576",
   "metadata": {},
   "outputs": [
    {
     "name": "stdout",
     "output_type": "stream",
     "text": [
      "MulticlassClassification(\n",
      "  (layer_1): Linear(in_features=86, out_features=512, bias=True)\n",
      "  (layer_2): Linear(in_features=512, out_features=128, bias=True)\n",
      "  (layer_3): Linear(in_features=128, out_features=64, bias=True)\n",
      "  (layer_out): Linear(in_features=64, out_features=4, bias=True)\n",
      "  (relu): ReLU()\n",
      "  (dropout): Dropout(p=0.2, inplace=False)\n",
      "  (batchnorm1): BatchNorm1d(512, eps=1e-05, momentum=0.1, affine=True, track_running_stats=True)\n",
      "  (batchnorm2): BatchNorm1d(128, eps=1e-05, momentum=0.1, affine=True, track_running_stats=True)\n",
      "  (batchnorm3): BatchNorm1d(64, eps=1e-05, momentum=0.1, affine=True, track_running_stats=True)\n",
      ")\n"
     ]
    }
   ],
   "source": [
    "model = MulticlassClassification(num_feature = NUM_FEATURES, num_class=NUM_CLASSES)\n",
    "model.to(device)\n",
    "\n",
    "criterion = nn.CrossEntropyLoss(weight=class_weights.to(device))\n",
    "\n",
    "optimizer = optim.Adam(model.parameters(), lr=LEARNING_RATE)\n",
    "\n",
    "print(model)"
   ]
  },
  {
   "cell_type": "code",
   "execution_count": 34,
   "id": "f8959a72",
   "metadata": {},
   "outputs": [],
   "source": [
    "# store accuracy and loss\n",
    "accuracy_stats = { 'train': [],\"val\": [] }\n",
    "loss_stats = {'train': [],\"val\": [] }"
   ]
  },
  {
   "cell_type": "code",
   "execution_count": 35,
   "id": "58712b2a",
   "metadata": {},
   "outputs": [
    {
     "name": "stdout",
     "output_type": "stream",
     "text": [
      "Begin training.\n"
     ]
    },
    {
     "data": {
      "application/vnd.jupyter.widget-view+json": {
       "model_id": "9b1538b2eba845eaada0f90d1c9af71b",
       "version_major": 2,
       "version_minor": 0
      },
      "text/plain": [
       "HBox(children=(FloatProgress(value=0.0, max=10.0), HTML(value='')))"
      ]
     },
     "metadata": {},
     "output_type": "display_data"
    },
    {
     "name": "stdout",
     "output_type": "stream",
     "text": [
      "Epoch 001: | Train Loss: 0.11383 | Val Loss: 7.42336 | Train Acc: 95.857 | Val Acc: 29.644\n",
      "Epoch 002: | Train Loss: 0.01649 | Val Loss: 9.21983 | Train Acc: 99.392 | Val Acc: 28.444\n",
      "Epoch 003: | Train Loss: 0.01056 | Val Loss: 14.15201 | Train Acc: 99.582 | Val Acc: 27.709\n",
      "Epoch 004: | Train Loss: 0.00821 | Val Loss: 14.48345 | Train Acc: 99.669 | Val Acc: 29.040\n",
      "Epoch 005: | Train Loss: 0.00729 | Val Loss: 12.26252 | Train Acc: 99.707 | Val Acc: 31.346\n",
      "Epoch 006: | Train Loss: 0.00629 | Val Loss: 19.73886 | Train Acc: 99.741 | Val Acc: 28.027\n",
      "Epoch 007: | Train Loss: 0.00540 | Val Loss: 18.92825 | Train Acc: 99.768 | Val Acc: 25.656\n",
      "Epoch 008: | Train Loss: 0.00520 | Val Loss: 26.10651 | Train Acc: 99.783 | Val Acc: 28.148\n",
      "Epoch 009: | Train Loss: 0.00471 | Val Loss: 21.26749 | Train Acc: 99.802 | Val Acc: 28.142\n",
      "Epoch 010: | Train Loss: 0.00450 | Val Loss: 20.67193 | Train Acc: 99.807 | Val Acc: 27.509\n",
      "\n"
     ]
    }
   ],
   "source": [
    "print(\"Begin training.\")\n",
    "for e in tqdm(range(1, EPOCHS+1)):\n",
    "    \n",
    "    # TRAINING\n",
    "    train_epoch_loss = 0\n",
    "    train_epoch_acc = 0\n",
    "    model.train()\n",
    "    for X_train_batch, y_train_batch in train_loader:\n",
    "        X_train_batch, y_train_batch = X_train_batch.to(device), y_train_batch.to(device)\n",
    "        optimizer.zero_grad()\n",
    "        \n",
    "        y_train_pred = model(X_train_batch)\n",
    "        \n",
    "        train_loss = criterion(y_train_pred, y_train_batch)\n",
    "        train_acc = multi_acc(y_train_pred, y_train_batch)\n",
    "        \n",
    "        train_loss.backward()\n",
    "        optimizer.step()\n",
    "        \n",
    "        train_epoch_loss += train_loss.item()\n",
    "        train_epoch_acc += train_acc.item()\n",
    "        \n",
    "        \n",
    "    # VALIDATION    \n",
    "    with torch.no_grad():\n",
    "        \n",
    "        val_epoch_loss = 0\n",
    "        val_epoch_acc = 0\n",
    "        \n",
    "        model.eval()\n",
    "        for X_val_batch, y_val_batch in val_loader:\n",
    "            X_val_batch, y_val_batch = X_val_batch.to(device), y_val_batch.to(device)\n",
    "            \n",
    "            y_val_pred = model(X_val_batch)\n",
    "                        \n",
    "            val_loss = criterion(y_val_pred, y_val_batch)\n",
    "            val_acc = multi_acc(y_val_pred, y_val_batch)\n",
    "            \n",
    "            val_epoch_loss += val_loss.item()\n",
    "            val_epoch_acc += val_acc.item()\n",
    "    \n",
    "    loss_stats['train'].append(train_epoch_loss/len(train_loader))\n",
    "    loss_stats['val'].append(val_epoch_loss/len(val_loader))\n",
    "    accuracy_stats['train'].append(train_epoch_acc/len(train_loader))\n",
    "    accuracy_stats['val'].append(val_epoch_acc/len(val_loader))\n",
    "                              \n",
    "    \n",
    "    print(f'Epoch {e+0:03}: | Train Loss: {train_epoch_loss/len(train_loader):.5f} | Val Loss: {val_epoch_loss/len(val_loader):.5f} | Train Acc: {train_epoch_acc/len(train_loader):.3f} | Val Acc: {val_epoch_acc/len(val_loader):.3f}')"
   ]
  },
  {
   "cell_type": "markdown",
   "id": "bfadd633",
   "metadata": {},
   "source": [
    "##### Visualize Loss and Accuracy"
   ]
  },
  {
   "cell_type": "code",
   "execution_count": 37,
   "id": "52ba5a13",
   "metadata": {},
   "outputs": [
    {
     "data": {
      "image/png": "[encoded data removed]",
      "text/plain": [
       "<Figure size 1440x504 with 2 Axes>"
      ]
     },
     "metadata": {
      "needs_background": "light"
     },
     "output_type": "display_data"
    }
   ],
   "source": [
    "# Create dataframes\n",
    "train_val_acc_df = pd.DataFrame.from_dict(accuracy_stats).reset_index().melt(id_vars=['index']).rename(columns={\"index\":\"epochs\"})\n",
    "train_val_loss_df = pd.DataFrame.from_dict(loss_stats).reset_index().melt(id_vars=['index']).rename(columns={\"index\":\"epochs\"})\n",
    "# Plot the dataframes\n",
    "fig, axes = plt.subplots(nrows=1, ncols=2, figsize=(20,7))\n",
    "sns.lineplot(data=train_val_acc_df, x = \"epochs\", y=\"value\", hue=\"variable\",  ax=axes[0]).set_title('Train-Val Accuracy/Epoch')\n",
    "sns.lineplot(data=train_val_loss_df, x = \"epochs\", y=\"value\", hue=\"variable\", ax=axes[1]).set_title('Train-Val Loss/Epoch')\n",
    "plt.show()"
   ]
  },
  {
   "cell_type": "markdown",
   "id": "2bff2893",
   "metadata": {},
   "source": [
    "##### Test the Model"
   ]
  },
  {
   "cell_type": "code",
   "execution_count": 39,
   "id": "bf71c4a8",
   "metadata": {},
   "outputs": [],
   "source": [
    "y_pred_list = []\n",
    "y_test_target_list = []\n",
    "with torch.no_grad():\n",
    "    model.eval()\n",
    "    for X_batch, y_test_target in test_loader:\n",
    "        X_batch = X_batch.to(device)\n",
    "        y_test_pred = model(X_batch)\n",
    "        \n",
    "        _, y_pred_tags = torch.max(y_test_pred, dim = 1)\n",
    "        y_pred_list.append(y_pred_tags.cpu().numpy())\n",
    "        y_test_target_list.append(y_test_target.to(device))\n",
    "        \n",
    "y_pred_list = [a.squeeze().tolist() for a in y_pred_list]"
   ]
  },
  {
   "cell_type": "markdown",
   "id": "f3780953",
   "metadata": {},
   "source": [
    "##### Confusion Matrix"
   ]
  },
  {
   "cell_type": "code",
   "execution_count": 43,
   "id": "81901101",
   "metadata": {},
   "outputs": [
    {
     "data": {
      "image/png": "[encoded data removed]",
      "text/plain": [
       "<Figure size 720x432 with 2 Axes>"
      ]
     },
     "metadata": {
      "needs_background": "light"
     },
     "output_type": "display_data"
    }
   ],
   "source": [
    "plt.figure(figsize=(10,6))\n",
    "confusion_matrix_df = pd.DataFrame(confusion_matrix(y_test, y_pred_list)).rename(columns=idx2class, index=idx2class)\n",
    "\n",
    "sns.heatmap(confusion_matrix_df, annot=True,fmt=\".1f\",cmap=\"Blues_r\")\n",
    "plt.show()"
   ]
  },
  {
   "cell_type": "markdown",
   "id": "f7a7ece6",
   "metadata": {},
   "source": [
    "##### Classification Report"
   ]
  },
  {
   "cell_type": "code",
   "execution_count": 44,
   "id": "771888e3",
   "metadata": {},
   "outputs": [
    {
     "name": "stdout",
     "output_type": "stream",
     "text": [
      "              precision    recall  f1-score   support\n",
      "\n",
      "           0       0.00      0.00      0.00     23601\n",
      "           1       0.19      1.00      0.32     13501\n",
      "           2       0.00      0.00      0.00      7441\n",
      "           3       0.00      0.00      0.00     27285\n",
      "\n",
      "    accuracy                           0.19     71828\n",
      "   macro avg       0.05      0.25      0.08     71828\n",
      "weighted avg       0.04      0.19      0.06     71828\n",
      "\n"
     ]
    }
   ],
   "source": [
    "print(classification_report(y_test, y_pred_list))"
   ]
  },
  {
   "cell_type": "code",
   "execution_count": null,
   "id": "175d933a",
   "metadata": {},
   "outputs": [],
   "source": []
  }
 ],
 "metadata": {
  "kernelspec": {
   "display_name": "Python 3 (ipykernel)",
   "language": "python",
   "name": "python3"
  },
  "language_info": {
   "codemirror_mode": {
    "name": "ipython",
    "version": 3
   },
   "file_extension": ".py",
   "mimetype": "text/x-python",
   "name": "python",
   "nbconvert_exporter": "python",
   "pygments_lexer": "ipython3",
   "version": "3.8.12"
  }
 },
 "nbformat": 4,
 "nbformat_minor": 5
}
