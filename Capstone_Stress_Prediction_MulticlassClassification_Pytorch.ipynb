{
 "cells": [
  {
   "cell_type": "markdown",
   "id": "63754b30",
   "metadata": {},
   "source": [
    "##### Install Libraries\n",
    "\n",
    "* Please uncomment the code below to install Pytorch before running this notebook first time in the new environment."
   ]
  },
  {
   "cell_type": "code",
   "execution_count": 1,
   "id": "172b98c9",
   "metadata": {},
   "outputs": [],
   "source": [
    "# !pip install torch"
   ]
  },
  {
   "cell_type": "code",
   "execution_count": 2,
   "id": "89e722db",
   "metadata": {},
   "outputs": [],
   "source": [
    "import pandas as pd\n",
    "import numpy as np\n",
    "import warnings\n",
    "warnings.filterwarnings('ignore')\n",
    "import Capstone_Utilities as utility\n",
    "\n",
    "import torch\n",
    "import torch.nn as nn\n",
    "import torch.optim as optim\n",
    "from torch.utils.data import Dataset, DataLoader,WeightedRandomSampler\n",
    "device = torch.device(\"cuda:0\" if torch.cuda.is_available() else \"cpu\")\n",
    "\n",
    "from sklearn.model_selection import train_test_split\n",
    "from sklearn.preprocessing import StandardScaler,MinMaxScaler\n",
    "from sklearn.metrics import confusion_matrix, classification_report\n",
    "\n",
    "import torch.nn.functional as F\n",
    "import matplotlib.pyplot as plt\n",
    "import seaborn as sns\n",
    "from tqdm.notebook import tqdm\n",
    "import random"
   ]
  },
  {
   "cell_type": "markdown",
   "id": "50213583",
   "metadata": {},
   "source": [
    "### Loading ML dataset"
   ]
  },
  {
   "cell_type": "code",
   "execution_count": 3,
   "id": "18f09641",
   "metadata": {},
   "outputs": [
    {
     "name": "stdout",
     "output_type": "stream",
     "text": [
      "dataset for ML: (718277, 87)\n"
     ]
    },
    {
     "data": {
      "text/html": [
       "<div><div id=1fc80452-012f-43f8-9694-f2b80504b5b7 style=\"display:none; background-color:#9D6CFF; color:white; width:200px; height:30px; padding-left:5px; border-radius:4px; flex-direction:row; justify-content:space-around; align-items:center;\" onmouseover=\"this.style.backgroundColor='#BA9BF8'\" onmouseout=\"this.style.backgroundColor='#9D6CFF'\" onclick=\"window.commands?.execute('create-mitosheet-from-dataframe-output');\">See Full Dataframe in Mito</div> <script> if (window.commands.hasCommand('create-mitosheet-from-dataframe-output')) document.getElementById('1fc80452-012f-43f8-9694-f2b80504b5b7').style.display = 'flex' </script> <table border=\"1\" class=\"dataframe\">\n",
       "  <thead>\n",
       "    <tr style=\"text-align: right;\">\n",
       "      <th></th>\n",
       "      <th>ACC_1</th>\n",
       "      <th>ACC_2</th>\n",
       "      <th>ACC_3</th>\n",
       "      <th>ECG</th>\n",
       "      <th>EMG</th>\n",
       "      <th>EDA</th>\n",
       "      <th>Temp</th>\n",
       "      <th>Resp</th>\n",
       "      <th>age</th>\n",
       "      <th>height</th>\n",
       "      <th>...</th>\n",
       "      <th>tonic_peaks</th>\n",
       "      <th>tonic_rms</th>\n",
       "      <th>phasic_mean</th>\n",
       "      <th>phasic_std</th>\n",
       "      <th>phasic_min</th>\n",
       "      <th>phasic_max</th>\n",
       "      <th>phasic_energy</th>\n",
       "      <th>phasic_peaks</th>\n",
       "      <th>phasic_rms</th>\n",
       "      <th>label</th>\n",
       "    </tr>\n",
       "  </thead>\n",
       "  <tbody>\n",
       "    <tr>\n",
       "      <th>0</th>\n",
       "      <td>0.889131</td>\n",
       "      <td>-0.104177</td>\n",
       "      <td>-0.254086</td>\n",
       "      <td>0.052203</td>\n",
       "      <td>0.000302</td>\n",
       "      <td>5.712509</td>\n",
       "      <td>29.119919</td>\n",
       "      <td>1.025521</td>\n",
       "      <td>27.0</td>\n",
       "      <td>175.0</td>\n",
       "      <td>...</td>\n",
       "      <td>27.0</td>\n",
       "      <td>12.093175</td>\n",
       "      <td>7.010534</td>\n",
       "      <td>12.596496</td>\n",
       "      <td>0.0</td>\n",
       "      <td>85.473764</td>\n",
       "      <td>1.492718e+08</td>\n",
       "      <td>41.0</td>\n",
       "      <td>14.415939</td>\n",
       "      <td>1</td>\n",
       "    </tr>\n",
       "    <tr>\n",
       "      <th>1</th>\n",
       "      <td>0.889731</td>\n",
       "      <td>-0.100206</td>\n",
       "      <td>-0.242897</td>\n",
       "      <td>0.076138</td>\n",
       "      <td>-0.005188</td>\n",
       "      <td>5.707354</td>\n",
       "      <td>29.119755</td>\n",
       "      <td>0.710013</td>\n",
       "      <td>27.0</td>\n",
       "      <td>175.0</td>\n",
       "      <td>...</td>\n",
       "      <td>27.0</td>\n",
       "      <td>12.093175</td>\n",
       "      <td>7.010534</td>\n",
       "      <td>12.596496</td>\n",
       "      <td>0.0</td>\n",
       "      <td>85.473764</td>\n",
       "      <td>1.492718e+08</td>\n",
       "      <td>41.0</td>\n",
       "      <td>14.415939</td>\n",
       "      <td>1</td>\n",
       "    </tr>\n",
       "    <tr>\n",
       "      <th>2</th>\n",
       "      <td>0.893480</td>\n",
       "      <td>-0.103223</td>\n",
       "      <td>-0.248234</td>\n",
       "      <td>0.073135</td>\n",
       "      <td>-0.003722</td>\n",
       "      <td>5.698667</td>\n",
       "      <td>29.125584</td>\n",
       "      <td>0.327802</td>\n",
       "      <td>27.0</td>\n",
       "      <td>175.0</td>\n",
       "      <td>...</td>\n",
       "      <td>27.0</td>\n",
       "      <td>12.093175</td>\n",
       "      <td>7.010534</td>\n",
       "      <td>12.596496</td>\n",
       "      <td>0.0</td>\n",
       "      <td>85.473764</td>\n",
       "      <td>1.492718e+08</td>\n",
       "      <td>41.0</td>\n",
       "      <td>14.415939</td>\n",
       "      <td>1</td>\n",
       "    </tr>\n",
       "    <tr>\n",
       "      <th>3</th>\n",
       "      <td>0.878366</td>\n",
       "      <td>-0.113154</td>\n",
       "      <td>-0.236754</td>\n",
       "      <td>0.054067</td>\n",
       "      <td>0.000221</td>\n",
       "      <td>5.692651</td>\n",
       "      <td>29.133441</td>\n",
       "      <td>-0.066877</td>\n",
       "      <td>27.0</td>\n",
       "      <td>175.0</td>\n",
       "      <td>...</td>\n",
       "      <td>27.0</td>\n",
       "      <td>12.093175</td>\n",
       "      <td>7.010534</td>\n",
       "      <td>12.596496</td>\n",
       "      <td>0.0</td>\n",
       "      <td>85.473764</td>\n",
       "      <td>1.492718e+08</td>\n",
       "      <td>41.0</td>\n",
       "      <td>14.415939</td>\n",
       "      <td>1</td>\n",
       "    </tr>\n",
       "    <tr>\n",
       "      <th>4</th>\n",
       "      <td>0.890411</td>\n",
       "      <td>-0.117394</td>\n",
       "      <td>-0.238989</td>\n",
       "      <td>0.058294</td>\n",
       "      <td>-0.003258</td>\n",
       "      <td>5.685992</td>\n",
       "      <td>29.122919</td>\n",
       "      <td>-0.490505</td>\n",
       "      <td>27.0</td>\n",
       "      <td>175.0</td>\n",
       "      <td>...</td>\n",
       "      <td>27.0</td>\n",
       "      <td>12.093175</td>\n",
       "      <td>7.010534</td>\n",
       "      <td>12.596496</td>\n",
       "      <td>0.0</td>\n",
       "      <td>85.473764</td>\n",
       "      <td>1.492718e+08</td>\n",
       "      <td>41.0</td>\n",
       "      <td>14.415939</td>\n",
       "      <td>1</td>\n",
       "    </tr>\n",
       "  </tbody>\n",
       "</table></div>"
      ],
      "text/plain": [
       "      ACC_1     ACC_2     ACC_3       ECG       EMG       EDA       Temp  \\\n",
       "0  0.889131 -0.104177 -0.254086  0.052203  0.000302  5.712509  29.119919   \n",
       "1  0.889731 -0.100206 -0.242897  0.076138 -0.005188  5.707354  29.119755   \n",
       "2  0.893480 -0.103223 -0.248234  0.073135 -0.003722  5.698667  29.125584   \n",
       "3  0.878366 -0.113154 -0.236754  0.054067  0.000221  5.692651  29.133441   \n",
       "4  0.890411 -0.117394 -0.238989  0.058294 -0.003258  5.685992  29.122919   \n",
       "\n",
       "       Resp   age  height  ...  tonic_peaks  tonic_rms  phasic_mean  \\\n",
       "0  1.025521  27.0   175.0  ...         27.0  12.093175     7.010534   \n",
       "1  0.710013  27.0   175.0  ...         27.0  12.093175     7.010534   \n",
       "2  0.327802  27.0   175.0  ...         27.0  12.093175     7.010534   \n",
       "3 -0.066877  27.0   175.0  ...         27.0  12.093175     7.010534   \n",
       "4 -0.490505  27.0   175.0  ...         27.0  12.093175     7.010534   \n",
       "\n",
       "   phasic_std  phasic_min  phasic_max  phasic_energy  phasic_peaks  \\\n",
       "0   12.596496         0.0   85.473764   1.492718e+08          41.0   \n",
       "1   12.596496         0.0   85.473764   1.492718e+08          41.0   \n",
       "2   12.596496         0.0   85.473764   1.492718e+08          41.0   \n",
       "3   12.596496         0.0   85.473764   1.492718e+08          41.0   \n",
       "4   12.596496         0.0   85.473764   1.492718e+08          41.0   \n",
       "\n",
       "   phasic_rms  label  \n",
       "0   14.415939      1  \n",
       "1   14.415939      1  \n",
       "2   14.415939      1  \n",
       "3   14.415939      1  \n",
       "4   14.415939      1  \n",
       "\n",
       "[5 rows x 87 columns]"
      ]
     },
     "execution_count": 3,
     "metadata": {},
     "output_type": "execute_result"
    }
   ],
   "source": [
    "datafile_name = 'Capstone_final_dataset_for_ml_50ms.csv'\n",
    "data = pd.read_csv(datafile_name,index_col=0)\n",
    "print('dataset for ML:',data.shape)\n",
    "data.head()"
   ]
  },
  {
   "cell_type": "markdown",
   "id": "a17a9952",
   "metadata": {},
   "source": [
    "#### Convert/map labels from 0 to 3 \n",
    "* PyTorch supports labels starting from 0. That is [0, n]. We need to remap our labels to start from 0\n",
    "* Labels in the Dataset are:1 for Baseline, 2 for Stress, 3 for Amusement and 4 for Meditation"
   ]
  },
  {
   "cell_type": "code",
   "execution_count": 4,
   "id": "bae8f8d5",
   "metadata": {},
   "outputs": [
    {
     "name": "stdout",
     "output_type": "stream",
     "text": [
      "[1 2 3 4]\n"
     ]
    }
   ],
   "source": [
    "print(data.label.unique())"
   ]
  },
  {
   "cell_type": "code",
   "execution_count": 5,
   "id": "5025aa7f",
   "metadata": {},
   "outputs": [
    {
     "name": "stdout",
     "output_type": "stream",
     "text": [
      "[0 1 2 3]\n"
     ]
    },
    {
     "data": {
      "text/html": [
       "<div><div id=c745fc2d-ad6d-4290-bf08-81e3796015f8 style=\"display:none; background-color:#9D6CFF; color:white; width:200px; height:30px; padding-left:5px; border-radius:4px; flex-direction:row; justify-content:space-around; align-items:center;\" onmouseover=\"this.style.backgroundColor='#BA9BF8'\" onmouseout=\"this.style.backgroundColor='#9D6CFF'\" onclick=\"window.commands?.execute('create-mitosheet-from-dataframe-output');\">See Full Dataframe in Mito</div> <script> if (window.commands.hasCommand('create-mitosheet-from-dataframe-output')) document.getElementById('c745fc2d-ad6d-4290-bf08-81e3796015f8').style.display = 'flex' </script> <table border=\"1\" class=\"dataframe\">\n",
       "  <thead>\n",
       "    <tr style=\"text-align: right;\">\n",
       "      <th></th>\n",
       "      <th>ACC_1</th>\n",
       "      <th>ACC_2</th>\n",
       "      <th>ACC_3</th>\n",
       "      <th>ECG</th>\n",
       "      <th>EMG</th>\n",
       "      <th>EDA</th>\n",
       "      <th>Temp</th>\n",
       "      <th>Resp</th>\n",
       "      <th>age</th>\n",
       "      <th>height</th>\n",
       "      <th>...</th>\n",
       "      <th>tonic_peaks</th>\n",
       "      <th>tonic_rms</th>\n",
       "      <th>phasic_mean</th>\n",
       "      <th>phasic_std</th>\n",
       "      <th>phasic_min</th>\n",
       "      <th>phasic_max</th>\n",
       "      <th>phasic_energy</th>\n",
       "      <th>phasic_peaks</th>\n",
       "      <th>phasic_rms</th>\n",
       "      <th>label</th>\n",
       "    </tr>\n",
       "  </thead>\n",
       "  <tbody>\n",
       "    <tr>\n",
       "      <th>0</th>\n",
       "      <td>0.889131</td>\n",
       "      <td>-0.104177</td>\n",
       "      <td>-0.254086</td>\n",
       "      <td>0.052203</td>\n",
       "      <td>0.000302</td>\n",
       "      <td>5.712509</td>\n",
       "      <td>29.119919</td>\n",
       "      <td>1.025521</td>\n",
       "      <td>27.0</td>\n",
       "      <td>175.0</td>\n",
       "      <td>...</td>\n",
       "      <td>27.0</td>\n",
       "      <td>12.093175</td>\n",
       "      <td>7.010534</td>\n",
       "      <td>12.596496</td>\n",
       "      <td>0.0</td>\n",
       "      <td>85.473764</td>\n",
       "      <td>1.492718e+08</td>\n",
       "      <td>41.0</td>\n",
       "      <td>14.415939</td>\n",
       "      <td>0</td>\n",
       "    </tr>\n",
       "    <tr>\n",
       "      <th>1</th>\n",
       "      <td>0.889731</td>\n",
       "      <td>-0.100206</td>\n",
       "      <td>-0.242897</td>\n",
       "      <td>0.076138</td>\n",
       "      <td>-0.005188</td>\n",
       "      <td>5.707354</td>\n",
       "      <td>29.119755</td>\n",
       "      <td>0.710013</td>\n",
       "      <td>27.0</td>\n",
       "      <td>175.0</td>\n",
       "      <td>...</td>\n",
       "      <td>27.0</td>\n",
       "      <td>12.093175</td>\n",
       "      <td>7.010534</td>\n",
       "      <td>12.596496</td>\n",
       "      <td>0.0</td>\n",
       "      <td>85.473764</td>\n",
       "      <td>1.492718e+08</td>\n",
       "      <td>41.0</td>\n",
       "      <td>14.415939</td>\n",
       "      <td>0</td>\n",
       "    </tr>\n",
       "    <tr>\n",
       "      <th>2</th>\n",
       "      <td>0.893480</td>\n",
       "      <td>-0.103223</td>\n",
       "      <td>-0.248234</td>\n",
       "      <td>0.073135</td>\n",
       "      <td>-0.003722</td>\n",
       "      <td>5.698667</td>\n",
       "      <td>29.125584</td>\n",
       "      <td>0.327802</td>\n",
       "      <td>27.0</td>\n",
       "      <td>175.0</td>\n",
       "      <td>...</td>\n",
       "      <td>27.0</td>\n",
       "      <td>12.093175</td>\n",
       "      <td>7.010534</td>\n",
       "      <td>12.596496</td>\n",
       "      <td>0.0</td>\n",
       "      <td>85.473764</td>\n",
       "      <td>1.492718e+08</td>\n",
       "      <td>41.0</td>\n",
       "      <td>14.415939</td>\n",
       "      <td>0</td>\n",
       "    </tr>\n",
       "    <tr>\n",
       "      <th>3</th>\n",
       "      <td>0.878366</td>\n",
       "      <td>-0.113154</td>\n",
       "      <td>-0.236754</td>\n",
       "      <td>0.054067</td>\n",
       "      <td>0.000221</td>\n",
       "      <td>5.692651</td>\n",
       "      <td>29.133441</td>\n",
       "      <td>-0.066877</td>\n",
       "      <td>27.0</td>\n",
       "      <td>175.0</td>\n",
       "      <td>...</td>\n",
       "      <td>27.0</td>\n",
       "      <td>12.093175</td>\n",
       "      <td>7.010534</td>\n",
       "      <td>12.596496</td>\n",
       "      <td>0.0</td>\n",
       "      <td>85.473764</td>\n",
       "      <td>1.492718e+08</td>\n",
       "      <td>41.0</td>\n",
       "      <td>14.415939</td>\n",
       "      <td>0</td>\n",
       "    </tr>\n",
       "    <tr>\n",
       "      <th>4</th>\n",
       "      <td>0.890411</td>\n",
       "      <td>-0.117394</td>\n",
       "      <td>-0.238989</td>\n",
       "      <td>0.058294</td>\n",
       "      <td>-0.003258</td>\n",
       "      <td>5.685992</td>\n",
       "      <td>29.122919</td>\n",
       "      <td>-0.490505</td>\n",
       "      <td>27.0</td>\n",
       "      <td>175.0</td>\n",
       "      <td>...</td>\n",
       "      <td>27.0</td>\n",
       "      <td>12.093175</td>\n",
       "      <td>7.010534</td>\n",
       "      <td>12.596496</td>\n",
       "      <td>0.0</td>\n",
       "      <td>85.473764</td>\n",
       "      <td>1.492718e+08</td>\n",
       "      <td>41.0</td>\n",
       "      <td>14.415939</td>\n",
       "      <td>0</td>\n",
       "    </tr>\n",
       "  </tbody>\n",
       "</table></div>"
      ],
      "text/plain": [
       "      ACC_1     ACC_2     ACC_3       ECG       EMG       EDA       Temp  \\\n",
       "0  0.889131 -0.104177 -0.254086  0.052203  0.000302  5.712509  29.119919   \n",
       "1  0.889731 -0.100206 -0.242897  0.076138 -0.005188  5.707354  29.119755   \n",
       "2  0.893480 -0.103223 -0.248234  0.073135 -0.003722  5.698667  29.125584   \n",
       "3  0.878366 -0.113154 -0.236754  0.054067  0.000221  5.692651  29.133441   \n",
       "4  0.890411 -0.117394 -0.238989  0.058294 -0.003258  5.685992  29.122919   \n",
       "\n",
       "       Resp   age  height  ...  tonic_peaks  tonic_rms  phasic_mean  \\\n",
       "0  1.025521  27.0   175.0  ...         27.0  12.093175     7.010534   \n",
       "1  0.710013  27.0   175.0  ...         27.0  12.093175     7.010534   \n",
       "2  0.327802  27.0   175.0  ...         27.0  12.093175     7.010534   \n",
       "3 -0.066877  27.0   175.0  ...         27.0  12.093175     7.010534   \n",
       "4 -0.490505  27.0   175.0  ...         27.0  12.093175     7.010534   \n",
       "\n",
       "   phasic_std  phasic_min  phasic_max  phasic_energy  phasic_peaks  \\\n",
       "0   12.596496         0.0   85.473764   1.492718e+08          41.0   \n",
       "1   12.596496         0.0   85.473764   1.492718e+08          41.0   \n",
       "2   12.596496         0.0   85.473764   1.492718e+08          41.0   \n",
       "3   12.596496         0.0   85.473764   1.492718e+08          41.0   \n",
       "4   12.596496         0.0   85.473764   1.492718e+08          41.0   \n",
       "\n",
       "   phasic_rms  label  \n",
       "0   14.415939      0  \n",
       "1   14.415939      0  \n",
       "2   14.415939      0  \n",
       "3   14.415939      0  \n",
       "4   14.415939      0  \n",
       "\n",
       "[5 rows x 87 columns]"
      ]
     },
     "execution_count": 5,
     "metadata": {},
     "output_type": "execute_result"
    }
   ],
   "source": [
    "class2idx = {1:0,2:1,3:2,4:3}\n",
    "\n",
    "idx2class = {v: k for k, v in class2idx.items()}\n",
    "\n",
    "data['label'].replace(class2idx, inplace=True)\n",
    "\n",
    "print(data.label.unique())\n",
    "\n",
    "data.head()"
   ]
  },
  {
   "cell_type": "code",
   "execution_count": 6,
   "id": "012b97d2",
   "metadata": {},
   "outputs": [
    {
     "name": "stdout",
     "output_type": "stream",
     "text": [
      "X_data.shape: (718277, 86)\n",
      "Y_data.shape: (718277,)\n"
     ]
    },
    {
     "data": {
      "text/html": [
       "<div><div id=cfe06e58-2394-4327-891a-8aa5f66e2847 style=\"display:none; background-color:#9D6CFF; color:white; width:200px; height:30px; padding-left:5px; border-radius:4px; flex-direction:row; justify-content:space-around; align-items:center;\" onmouseover=\"this.style.backgroundColor='#BA9BF8'\" onmouseout=\"this.style.backgroundColor='#9D6CFF'\" onclick=\"window.commands?.execute('create-mitosheet-from-dataframe-output');\">See Full Dataframe in Mito</div> <script> if (window.commands.hasCommand('create-mitosheet-from-dataframe-output')) document.getElementById('cfe06e58-2394-4327-891a-8aa5f66e2847').style.display = 'flex' </script> <table border=\"1\" class=\"dataframe\">\n",
       "  <thead>\n",
       "    <tr style=\"text-align: right;\">\n",
       "      <th></th>\n",
       "      <th>ACC_1</th>\n",
       "      <th>ACC_2</th>\n",
       "      <th>ACC_3</th>\n",
       "      <th>ECG</th>\n",
       "      <th>EMG</th>\n",
       "      <th>EDA</th>\n",
       "      <th>Temp</th>\n",
       "      <th>Resp</th>\n",
       "      <th>age</th>\n",
       "      <th>height</th>\n",
       "      <th>...</th>\n",
       "      <th>tonic_energy</th>\n",
       "      <th>tonic_peaks</th>\n",
       "      <th>tonic_rms</th>\n",
       "      <th>phasic_mean</th>\n",
       "      <th>phasic_std</th>\n",
       "      <th>phasic_min</th>\n",
       "      <th>phasic_max</th>\n",
       "      <th>phasic_energy</th>\n",
       "      <th>phasic_peaks</th>\n",
       "      <th>phasic_rms</th>\n",
       "    </tr>\n",
       "  </thead>\n",
       "  <tbody>\n",
       "    <tr>\n",
       "      <th>0</th>\n",
       "      <td>0.889131</td>\n",
       "      <td>-0.104177</td>\n",
       "      <td>-0.254086</td>\n",
       "      <td>0.052203</td>\n",
       "      <td>0.000302</td>\n",
       "      <td>5.712509</td>\n",
       "      <td>29.119919</td>\n",
       "      <td>1.025521</td>\n",
       "      <td>27.0</td>\n",
       "      <td>175.0</td>\n",
       "      <td>...</td>\n",
       "      <td>1.050443e+08</td>\n",
       "      <td>27.0</td>\n",
       "      <td>12.093175</td>\n",
       "      <td>7.010534</td>\n",
       "      <td>12.596496</td>\n",
       "      <td>0.0</td>\n",
       "      <td>85.473764</td>\n",
       "      <td>1.492718e+08</td>\n",
       "      <td>41.0</td>\n",
       "      <td>14.415939</td>\n",
       "    </tr>\n",
       "    <tr>\n",
       "      <th>1</th>\n",
       "      <td>0.889731</td>\n",
       "      <td>-0.100206</td>\n",
       "      <td>-0.242897</td>\n",
       "      <td>0.076138</td>\n",
       "      <td>-0.005188</td>\n",
       "      <td>5.707354</td>\n",
       "      <td>29.119755</td>\n",
       "      <td>0.710013</td>\n",
       "      <td>27.0</td>\n",
       "      <td>175.0</td>\n",
       "      <td>...</td>\n",
       "      <td>1.050443e+08</td>\n",
       "      <td>27.0</td>\n",
       "      <td>12.093175</td>\n",
       "      <td>7.010534</td>\n",
       "      <td>12.596496</td>\n",
       "      <td>0.0</td>\n",
       "      <td>85.473764</td>\n",
       "      <td>1.492718e+08</td>\n",
       "      <td>41.0</td>\n",
       "      <td>14.415939</td>\n",
       "    </tr>\n",
       "    <tr>\n",
       "      <th>2</th>\n",
       "      <td>0.893480</td>\n",
       "      <td>-0.103223</td>\n",
       "      <td>-0.248234</td>\n",
       "      <td>0.073135</td>\n",
       "      <td>-0.003722</td>\n",
       "      <td>5.698667</td>\n",
       "      <td>29.125584</td>\n",
       "      <td>0.327802</td>\n",
       "      <td>27.0</td>\n",
       "      <td>175.0</td>\n",
       "      <td>...</td>\n",
       "      <td>1.050443e+08</td>\n",
       "      <td>27.0</td>\n",
       "      <td>12.093175</td>\n",
       "      <td>7.010534</td>\n",
       "      <td>12.596496</td>\n",
       "      <td>0.0</td>\n",
       "      <td>85.473764</td>\n",
       "      <td>1.492718e+08</td>\n",
       "      <td>41.0</td>\n",
       "      <td>14.415939</td>\n",
       "    </tr>\n",
       "    <tr>\n",
       "      <th>3</th>\n",
       "      <td>0.878366</td>\n",
       "      <td>-0.113154</td>\n",
       "      <td>-0.236754</td>\n",
       "      <td>0.054067</td>\n",
       "      <td>0.000221</td>\n",
       "      <td>5.692651</td>\n",
       "      <td>29.133441</td>\n",
       "      <td>-0.066877</td>\n",
       "      <td>27.0</td>\n",
       "      <td>175.0</td>\n",
       "      <td>...</td>\n",
       "      <td>1.050443e+08</td>\n",
       "      <td>27.0</td>\n",
       "      <td>12.093175</td>\n",
       "      <td>7.010534</td>\n",
       "      <td>12.596496</td>\n",
       "      <td>0.0</td>\n",
       "      <td>85.473764</td>\n",
       "      <td>1.492718e+08</td>\n",
       "      <td>41.0</td>\n",
       "      <td>14.415939</td>\n",
       "    </tr>\n",
       "    <tr>\n",
       "      <th>4</th>\n",
       "      <td>0.890411</td>\n",
       "      <td>-0.117394</td>\n",
       "      <td>-0.238989</td>\n",
       "      <td>0.058294</td>\n",
       "      <td>-0.003258</td>\n",
       "      <td>5.685992</td>\n",
       "      <td>29.122919</td>\n",
       "      <td>-0.490505</td>\n",
       "      <td>27.0</td>\n",
       "      <td>175.0</td>\n",
       "      <td>...</td>\n",
       "      <td>1.050443e+08</td>\n",
       "      <td>27.0</td>\n",
       "      <td>12.093175</td>\n",
       "      <td>7.010534</td>\n",
       "      <td>12.596496</td>\n",
       "      <td>0.0</td>\n",
       "      <td>85.473764</td>\n",
       "      <td>1.492718e+08</td>\n",
       "      <td>41.0</td>\n",
       "      <td>14.415939</td>\n",
       "    </tr>\n",
       "  </tbody>\n",
       "</table></div>"
      ],
      "text/plain": [
       "      ACC_1     ACC_2     ACC_3       ECG       EMG       EDA       Temp  \\\n",
       "0  0.889131 -0.104177 -0.254086  0.052203  0.000302  5.712509  29.119919   \n",
       "1  0.889731 -0.100206 -0.242897  0.076138 -0.005188  5.707354  29.119755   \n",
       "2  0.893480 -0.103223 -0.248234  0.073135 -0.003722  5.698667  29.125584   \n",
       "3  0.878366 -0.113154 -0.236754  0.054067  0.000221  5.692651  29.133441   \n",
       "4  0.890411 -0.117394 -0.238989  0.058294 -0.003258  5.685992  29.122919   \n",
       "\n",
       "       Resp   age  height  ...  tonic_energy  tonic_peaks  tonic_rms  \\\n",
       "0  1.025521  27.0   175.0  ...  1.050443e+08         27.0  12.093175   \n",
       "1  0.710013  27.0   175.0  ...  1.050443e+08         27.0  12.093175   \n",
       "2  0.327802  27.0   175.0  ...  1.050443e+08         27.0  12.093175   \n",
       "3 -0.066877  27.0   175.0  ...  1.050443e+08         27.0  12.093175   \n",
       "4 -0.490505  27.0   175.0  ...  1.050443e+08         27.0  12.093175   \n",
       "\n",
       "   phasic_mean  phasic_std  phasic_min  phasic_max  phasic_energy  \\\n",
       "0     7.010534   12.596496         0.0   85.473764   1.492718e+08   \n",
       "1     7.010534   12.596496         0.0   85.473764   1.492718e+08   \n",
       "2     7.010534   12.596496         0.0   85.473764   1.492718e+08   \n",
       "3     7.010534   12.596496         0.0   85.473764   1.492718e+08   \n",
       "4     7.010534   12.596496         0.0   85.473764   1.492718e+08   \n",
       "\n",
       "   phasic_peaks  phasic_rms  \n",
       "0          41.0   14.415939  \n",
       "1          41.0   14.415939  \n",
       "2          41.0   14.415939  \n",
       "3          41.0   14.415939  \n",
       "4          41.0   14.415939  \n",
       "\n",
       "[5 rows x 86 columns]"
      ]
     },
     "metadata": {},
     "output_type": "display_data"
    }
   ],
   "source": [
    "# Create dataset for Model\n",
    "X_data = data.iloc[:,0:-1]\n",
    "y_data = data.iloc[:,-1]\n",
    "\n",
    "print('X_data.shape:',X_data.shape)\n",
    "print('Y_data.shape:',y_data.shape)\n",
    "display(X_data.head())"
   ]
  },
  {
   "cell_type": "markdown",
   "id": "904cb1d2",
   "metadata": {},
   "source": [
    "##### Split data into train, validate and test sets"
   ]
  },
  {
   "cell_type": "code",
   "execution_count": 7,
   "id": "51d7d074",
   "metadata": {},
   "outputs": [
    {
     "name": "stdout",
     "output_type": "stream",
     "text": [
      "Traing Shape: (574621, 86) (574621,)\n",
      "Validation Shape: (71828, 86) (71828,)\n",
      "Testing Shape: (71828, 86) (71828,)\n"
     ]
    }
   ],
   "source": [
    "X_train,X_val,X_test,y_train,y_val,y_test = utility.split_data(X_data,y_data)\n",
    "\n",
    "print('Traing Shape:',X_train.shape,y_train.shape)\n",
    "print('Validation Shape:',X_val.shape,y_val.shape)\n",
    "print('Testing Shape:',X_test.shape,y_test.shape)"
   ]
  },
  {
   "cell_type": "markdown",
   "id": "7a354dba",
   "metadata": {},
   "source": [
    "##### Normalize Data"
   ]
  },
  {
   "cell_type": "code",
   "execution_count": 8,
   "id": "daab40da",
   "metadata": {},
   "outputs": [],
   "source": [
    "# Scale dataset before applying machine learning\n",
    "scaler = MinMaxScaler()\n",
    "X_train = scaler.fit_transform(X_train)\n",
    "X_val = scaler.transform(X_val)\n",
    "X_test = scaler.transform(X_test)\n",
    "\n",
    "X_train, y_train = np.array(X_train), np.array(y_train)\n",
    "X_val, y_val = np.array(X_val), np.array(y_val)\n",
    "X_test, y_test = np.array(X_test), np.array(y_test)"
   ]
  },
  {
   "cell_type": "markdown",
   "id": "7d9f940d",
   "metadata": {},
   "source": [
    "##### Visualize class distribution in train, val and test dataset"
   ]
  },
  {
   "cell_type": "code",
   "execution_count": 9,
   "id": "56de5431",
   "metadata": {},
   "outputs": [],
   "source": [
    "def get_class_distribution(obj):\n",
    "    count_dict = {\n",
    "        \"baseline_1\": 0,\n",
    "        \"stess_2\": 0,\n",
    "        \"amusement_3\": 0,\n",
    "        \"meditation_4\": 0\n",
    "    }\n",
    "    for i in obj:\n",
    "        if i == 0: \n",
    "            count_dict['baseline_1'] += 1\n",
    "        elif i == 1: \n",
    "            count_dict['stess_2'] += 1\n",
    "        elif i == 2: \n",
    "            count_dict['amusement_3'] += 1\n",
    "        elif i == 3: \n",
    "            count_dict['meditation_4'] += 1            \n",
    "        else:\n",
    "            print(\"Check classes.\")\n",
    "            \n",
    "    return count_dict"
   ]
  },
  {
   "cell_type": "code",
   "execution_count": 10,
   "id": "d0870a4a",
   "metadata": {},
   "outputs": [
    {
     "data": {
      "image/png": "[encoded data removed]",
      "text/plain": [
       "<Figure size 1800x504 with 3 Axes>"
      ]
     },
     "metadata": {
      "needs_background": "light"
     },
     "output_type": "display_data"
    }
   ],
   "source": [
    "fig, axes = plt.subplots(nrows=1, ncols=3, figsize=(25,7))\n",
    "# Train\n",
    "sns.barplot(data = pd.DataFrame.from_dict([get_class_distribution(y_train)]).melt(), \n",
    "            x = \"variable\", y=\"value\", hue=\"variable\",  ax=axes[0]).set_title('Class Distribution in Train Set')\n",
    "# Validation\n",
    "sns.barplot(data = pd.DataFrame.from_dict([get_class_distribution(y_val)]).melt(), \n",
    "            x = \"variable\", y=\"value\", hue=\"variable\",  ax=axes[1]).set_title('Class Distribution in Val Set')\n",
    "# Test\n",
    "sns.barplot(data = pd.DataFrame.from_dict([get_class_distribution(y_test)]).melt(), \n",
    "            x = \"variable\", y=\"value\", hue=\"variable\",  ax=axes[2]).set_title('Class Distribution in Test Set')\n",
    "plt.show()"
   ]
  },
  {
   "cell_type": "markdown",
   "id": "0d7a56bf",
   "metadata": {},
   "source": [
    "### Neural Network Modeling"
   ]
  },
  {
   "cell_type": "markdown",
   "id": "7d30f84e",
   "metadata": {},
   "source": [
    "#### Sensor Dataset\n",
    "This dataset will be used by the dataloader to pass the data into model. The X values need to in float while y values need to be in long format."
   ]
  },
  {
   "cell_type": "code",
   "execution_count": 11,
   "id": "e0052c0f",
   "metadata": {},
   "outputs": [],
   "source": [
    "class SensorDataset(Dataset):\n",
    "    \n",
    "    def __init__(self, X_data, y_data):\n",
    "        self.X_data = X_data\n",
    "        self.y_data = y_data\n",
    "        \n",
    "    def __getitem__(self, index):\n",
    "        x,y = self.X_data[index], self.y_data[index]\n",
    "        return x,y\n",
    "    \n",
    "    def __len__ (self):\n",
    "        return len(self.X_data)\n",
    "\n",
    "train_dataset = SensorDataset(torch.from_numpy(X_train).float(), torch.from_numpy(y_train).long())\n",
    "val_dataset = SensorDataset(torch.from_numpy(X_val).float(), torch.from_numpy(y_val).long())\n",
    "test_dataset = SensorDataset(torch.from_numpy(X_test).float(), torch.from_numpy(y_test).long())"
   ]
  },
  {
   "cell_type": "markdown",
   "id": "75477a28",
   "metadata": {},
   "source": [
    "##### Weighted Sampling\n",
    "\n",
    "As it is observed in the graph above that there is a class imbalance, and even though stratified split was used but still it does not ensure that each mini-batch of the model gets representation from all the classes.\n",
    "\n",
    "We need to over-sample the classes with less number of values using WeightedRandomSampler."
   ]
  },
  {
   "cell_type": "code",
   "execution_count": 12,
   "id": "7a2ea2c3",
   "metadata": {},
   "outputs": [
    {
     "name": "stdout",
     "output_type": "stream",
     "text": [
      "Target list length: 574621\n"
     ]
    }
   ],
   "source": [
    "target_list = []\n",
    "for _, t in train_dataset:\n",
    "    target_list.append(t)\n",
    "    \n",
    "target_list = torch.tensor(target_list)\n",
    "print('Target list length:',len(target_list))"
   ]
  },
  {
   "cell_type": "code",
   "execution_count": 13,
   "id": "6cbc45b6",
   "metadata": {},
   "outputs": [
    {
     "name": "stdout",
     "output_type": "stream",
     "text": [
      "tensor([4.2679e-06, 7.6389e-06, 1.4880e-05, 7.0325e-06])\n"
     ]
    }
   ],
   "source": [
    "class_count = [i for i in get_class_distribution(y_train).values()]\n",
    "class_weights = 1./torch.tensor(class_count, dtype=torch.float) \n",
    "print(class_weights)"
   ]
  },
  {
   "cell_type": "code",
   "execution_count": 14,
   "id": "e680af2b",
   "metadata": {},
   "outputs": [],
   "source": [
    "# assign weight for each sample\n",
    "class_weights_all = class_weights[target_list]"
   ]
  },
  {
   "cell_type": "code",
   "execution_count": 15,
   "id": "b2ce8643",
   "metadata": {},
   "outputs": [],
   "source": [
    "# Initialize weighted Random Sampler\n",
    "weighted_sampler = WeightedRandomSampler(\n",
    "    weights=class_weights_all,\n",
    "    num_samples=len(class_weights_all),\n",
    "    replacement=True\n",
    ")"
   ]
  },
  {
   "cell_type": "markdown",
   "id": "f0d41f45",
   "metadata": {},
   "source": [
    "#### Model Parameters"
   ]
  },
  {
   "cell_type": "code",
   "execution_count": 16,
   "id": "53194048",
   "metadata": {},
   "outputs": [],
   "source": [
    "EPOCHS = 25\n",
    "BATCH_SIZE = 64\n",
    "LEARNING_RATE = 0.0001\n",
    "NUM_FEATURES = len(X_data.columns)\n",
    "NUM_CLASSES = 4 # four effective states label"
   ]
  },
  {
   "cell_type": "markdown",
   "id": "18978ef1",
   "metadata": {},
   "source": [
    "##### Dataloader\n",
    "* batch_size = 64  for training\n",
    "* batch_size = 1 for test and val dataset"
   ]
  },
  {
   "cell_type": "code",
   "execution_count": 17,
   "id": "0918c06e",
   "metadata": {},
   "outputs": [],
   "source": [
    "train_loader = DataLoader(dataset=train_dataset,batch_size=BATCH_SIZE,sampler=weighted_sampler)\n",
    "\n",
    "val_loader = DataLoader(dataset=val_dataset, batch_size=1)\n",
    "\n",
    "test_loader = DataLoader(dataset=test_dataset, batch_size=1)"
   ]
  },
  {
   "cell_type": "markdown",
   "id": "77cc7982",
   "metadata": {},
   "source": [
    "##### Neural Network Architecture\n",
    "\n",
    "* A simple 3-layer feed-forward network with dropout and batch-norm."
   ]
  },
  {
   "cell_type": "code",
   "execution_count": 18,
   "id": "0c63f920",
   "metadata": {},
   "outputs": [],
   "source": [
    "class MulticlassClassification(nn.Module):\n",
    "    def __init__(self, num_feature, num_class):\n",
    "        super(MulticlassClassification, self).__init__()\n",
    "        \n",
    "        self.layer_1 = nn.Linear(num_feature, 512)\n",
    "        self.layer_2 = nn.Linear(512, 128)\n",
    "        self.layer_3 = nn.Linear(128, 64)\n",
    "        self.layer_out = nn.Linear(64, num_class)  \n",
    "        \n",
    "        self.relu = nn.ReLU()\n",
    "        self.dropout = nn.Dropout(p=0.2)\n",
    "        self.batchnorm1 = nn.BatchNorm1d(512)\n",
    "        self.batchnorm2 = nn.BatchNorm1d(128)\n",
    "        self.batchnorm3 = nn.BatchNorm1d(64)\n",
    "        \n",
    "    def forward(self, x):\n",
    "        x = self.layer_1(x)\n",
    "        x = self.batchnorm1(x)\n",
    "        x = self.relu(x)\n",
    "        \n",
    "        x = self.layer_2(x)\n",
    "        x = self.batchnorm2(x)\n",
    "        x = self.relu(x)\n",
    "        x = self.dropout(x)\n",
    "        \n",
    "        x = self.layer_3(x)\n",
    "        x = self.batchnorm3(x)\n",
    "        x = self.relu(x)\n",
    "        x = self.dropout(x)\n",
    "        \n",
    "        x = self.layer_out(x)\n",
    "        \n",
    "        return x"
   ]
  },
  {
   "cell_type": "code",
   "execution_count": 19,
   "id": "1e37a819",
   "metadata": {},
   "outputs": [
    {
     "name": "stdout",
     "output_type": "stream",
     "text": [
      "cpu\n"
     ]
    }
   ],
   "source": [
    "device = torch.device(\"cuda:0\" if torch.cuda.is_available() else \"cpu\")\n",
    "print(device)"
   ]
  },
  {
   "cell_type": "markdown",
   "id": "ebe9bd73",
   "metadata": {},
   "source": [
    "#### Initialize Model, Optimizer and Loss Function\n",
    "\n",
    "* Using the nn.CrossEntropyLoss because this is a multiclass classification problem. \n",
    "* No need to apply a log_softmax layer after our final layer because nn.CrossEntropyLoss does that for us. However, we need to apply log_softmax for our validation and testing."
   ]
  },
  {
   "cell_type": "code",
   "execution_count": 20,
   "id": "9cb99d48",
   "metadata": {},
   "outputs": [
    {
     "name": "stdout",
     "output_type": "stream",
     "text": [
      "MulticlassClassification(\n",
      "  (layer_1): Linear(in_features=86, out_features=512, bias=True)\n",
      "  (layer_2): Linear(in_features=512, out_features=128, bias=True)\n",
      "  (layer_3): Linear(in_features=128, out_features=64, bias=True)\n",
      "  (layer_out): Linear(in_features=64, out_features=4, bias=True)\n",
      "  (relu): ReLU()\n",
      "  (dropout): Dropout(p=0.2, inplace=False)\n",
      "  (batchnorm1): BatchNorm1d(512, eps=1e-05, momentum=0.1, affine=True, track_running_stats=True)\n",
      "  (batchnorm2): BatchNorm1d(128, eps=1e-05, momentum=0.1, affine=True, track_running_stats=True)\n",
      "  (batchnorm3): BatchNorm1d(64, eps=1e-05, momentum=0.1, affine=True, track_running_stats=True)\n",
      ")\n"
     ]
    }
   ],
   "source": [
    "model = MulticlassClassification(num_feature = NUM_FEATURES, num_class=NUM_CLASSES)\n",
    "model.to(device)\n",
    "\n",
    "criterion = nn.CrossEntropyLoss(weight=class_weights.to(device))\n",
    "\n",
    "optimizer = optim.Adam(model.parameters(), lr=LEARNING_RATE)\n",
    "\n",
    "print(model)"
   ]
  },
  {
   "cell_type": "markdown",
   "id": "6c26314d",
   "metadata": {},
   "source": [
    "##### Model Training"
   ]
  },
  {
   "cell_type": "markdown",
   "id": "489fc743",
   "metadata": {},
   "source": [
    "##### Calculate Accuracy\n",
    "This function takes y_pred and y_test as input arguments. We then apply log_softmax to y_pred and extract the class which has a higher probability.After that, we compare the the predicted classes and the actual classes to calculate the accuracy."
   ]
  },
  {
   "cell_type": "code",
   "execution_count": 21,
   "id": "3c76e2c8",
   "metadata": {},
   "outputs": [],
   "source": [
    "def multi_acc(y_pred, y_test):\n",
    "    y_pred_softmax = torch.log_softmax(y_pred, dim = 1)\n",
    "    _, y_pred_tags = torch.max(y_pred_softmax, dim = 1)    \n",
    "    \n",
    "    correct_pred = (y_pred_tags == y_test).float()\n",
    "    acc = correct_pred.sum() / len(correct_pred)\n",
    "    \n",
    "    acc = torch.round(acc * 100)\n",
    "    \n",
    "    return acc"
   ]
  },
  {
   "cell_type": "code",
   "execution_count": 22,
   "id": "cd5381e5",
   "metadata": {},
   "outputs": [],
   "source": [
    "# store accuracy and loss\n",
    "accuracy_stats = { 'train': [],\"val\": [] }\n",
    "loss_stats = {'train': [],\"val\": [] }"
   ]
  },
  {
   "cell_type": "markdown",
   "id": "3d6b81bd",
   "metadata": {},
   "source": [
    "##### Begin Training"
   ]
  },
  {
   "cell_type": "code",
   "execution_count": 23,
   "id": "8d2bb0ed",
   "metadata": {},
   "outputs": [
    {
     "name": "stdout",
     "output_type": "stream",
     "text": [
      "Begin training.\n"
     ]
    },
    {
     "data": {
      "application/vnd.jupyter.widget-view+json": {
       "model_id": "668d4fa7b87a4c37a8a0d0b9d3346cde",
       "version_major": 2,
       "version_minor": 0
      },
      "text/plain": [
       "  0%|          | 0/25 [00:00<?, ?it/s]"
      ]
     },
     "metadata": {},
     "output_type": "display_data"
    },
    {
     "name": "stdout",
     "output_type": "stream",
     "text": [
      "Epoch 001: | Train Loss: 0.11392 | Val Loss: 6.90082 | Train Acc: 95.662 | Val Acc: 27.346\n",
      "Epoch 002: | Train Loss: 0.01580 | Val Loss: 9.79956 | Train Acc: 99.399 | Val Acc: 25.395\n",
      "Epoch 003: | Train Loss: 0.01031 | Val Loss: 14.02043 | Train Acc: 99.588 | Val Acc: 25.834\n",
      "Epoch 004: | Train Loss: 0.00864 | Val Loss: 16.95834 | Train Acc: 99.659 | Val Acc: 28.210\n",
      "Epoch 005: | Train Loss: 0.00713 | Val Loss: 17.38408 | Train Acc: 99.709 | Val Acc: 28.213\n",
      "Epoch 006: | Train Loss: 0.00582 | Val Loss: 18.82058 | Train Acc: 99.753 | Val Acc: 27.919\n",
      "Epoch 007: | Train Loss: 0.00546 | Val Loss: 21.42579 | Train Acc: 99.769 | Val Acc: 22.036\n",
      "Epoch 008: | Train Loss: 0.00474 | Val Loss: 20.15676 | Train Acc: 99.799 | Val Acc: 27.292\n",
      "Epoch 009: | Train Loss: 0.00451 | Val Loss: 24.24868 | Train Acc: 99.807 | Val Acc: 26.925\n",
      "Epoch 010: | Train Loss: 0.00432 | Val Loss: 22.11852 | Train Acc: 99.810 | Val Acc: 27.296\n",
      "Epoch 011: | Train Loss: 0.00378 | Val Loss: 23.43387 | Train Acc: 99.829 | Val Acc: 28.141\n",
      "Epoch 012: | Train Loss: 0.00371 | Val Loss: 25.32584 | Train Acc: 99.838 | Val Acc: 27.557\n",
      "Epoch 013: | Train Loss: 0.00355 | Val Loss: 28.61240 | Train Acc: 99.840 | Val Acc: 28.100\n",
      "Epoch 014: | Train Loss: 0.00348 | Val Loss: 24.91392 | Train Acc: 99.842 | Val Acc: 27.541\n",
      "Epoch 015: | Train Loss: 0.00323 | Val Loss: 25.15857 | Train Acc: 99.854 | Val Acc: 26.090\n",
      "Epoch 016: | Train Loss: 0.00299 | Val Loss: 24.08253 | Train Acc: 99.863 | Val Acc: 27.822\n",
      "Epoch 017: | Train Loss: 0.00295 | Val Loss: 29.97912 | Train Acc: 99.860 | Val Acc: 27.308\n",
      "Epoch 018: | Train Loss: 0.00285 | Val Loss: 26.12702 | Train Acc: 99.872 | Val Acc: 28.238\n",
      "Epoch 019: | Train Loss: 0.00290 | Val Loss: 29.93826 | Train Acc: 99.867 | Val Acc: 28.212\n",
      "Epoch 020: | Train Loss: 0.00256 | Val Loss: 25.02339 | Train Acc: 99.880 | Val Acc: 27.677\n",
      "Epoch 021: | Train Loss: 0.00254 | Val Loss: 30.54709 | Train Acc: 99.883 | Val Acc: 23.598\n",
      "Epoch 022: | Train Loss: 0.00266 | Val Loss: 30.98827 | Train Acc: 99.877 | Val Acc: 27.573\n",
      "Epoch 023: | Train Loss: 0.00215 | Val Loss: 31.73490 | Train Acc: 99.890 | Val Acc: 25.915\n",
      "Epoch 024: | Train Loss: 0.00234 | Val Loss: 30.92642 | Train Acc: 99.889 | Val Acc: 28.206\n",
      "Epoch 025: | Train Loss: 0.00233 | Val Loss: 37.33968 | Train Acc: 99.895 | Val Acc: 27.855\n"
     ]
    }
   ],
   "source": [
    "print(\"Begin training.\")\n",
    "for e in tqdm(range(1, EPOCHS+1)):\n",
    "    \n",
    "    # TRAINING\n",
    "    train_epoch_loss = 0\n",
    "    train_epoch_acc = 0\n",
    "    model.train()\n",
    "    for X_train_batch, y_train_batch in train_loader:\n",
    "        X_train_batch, y_train_batch = X_train_batch.to(device), y_train_batch.to(device)\n",
    "        optimizer.zero_grad()\n",
    "        \n",
    "        y_train_pred = model(X_train_batch)\n",
    "        \n",
    "        train_loss = criterion(y_train_pred, y_train_batch)\n",
    "        train_acc = multi_acc(y_train_pred, y_train_batch)\n",
    "        \n",
    "        train_loss.backward()\n",
    "        optimizer.step()\n",
    "        \n",
    "        train_epoch_loss += train_loss.item()\n",
    "        train_epoch_acc += train_acc.item()\n",
    "        \n",
    "        \n",
    "    # VALIDATION    \n",
    "    with torch.no_grad():\n",
    "        \n",
    "        val_epoch_loss = 0\n",
    "        val_epoch_acc = 0\n",
    "        \n",
    "        model.eval()\n",
    "        for X_val_batch, y_val_batch in val_loader:\n",
    "            X_val_batch, y_val_batch = X_val_batch.to(device), y_val_batch.to(device)\n",
    "            \n",
    "            y_val_pred = model(X_val_batch)\n",
    "                        \n",
    "            val_loss = criterion(y_val_pred, y_val_batch)\n",
    "            val_acc = multi_acc(y_val_pred, y_val_batch)\n",
    "            \n",
    "            val_epoch_loss += val_loss.item()\n",
    "            val_epoch_acc += val_acc.item()\n",
    "    \n",
    "    loss_stats['train'].append(train_epoch_loss/len(train_loader))\n",
    "    loss_stats['val'].append(val_epoch_loss/len(val_loader))\n",
    "    accuracy_stats['train'].append(train_epoch_acc/len(train_loader))\n",
    "    accuracy_stats['val'].append(val_epoch_acc/len(val_loader))\n",
    "                              \n",
    "    \n",
    "    print(f'Epoch {e+0:03}: | Train Loss: {train_epoch_loss/len(train_loader):.5f} | Val Loss: {val_epoch_loss/len(val_loader):.5f} | Train Acc: {train_epoch_acc/len(train_loader):.3f} | Val Acc: {val_epoch_acc/len(val_loader):.3f}')"
   ]
  },
  {
   "cell_type": "markdown",
   "id": "bfadd633",
   "metadata": {},
   "source": [
    "##### Visualize Loss and Accuracy"
   ]
  },
  {
   "cell_type": "code",
   "execution_count": 24,
   "id": "52ba5a13",
   "metadata": {},
   "outputs": [
    {
     "data": {
      "text/plain": [
       "Text(0.5, 1.0, 'Train-Val Loss/Epoch')"
      ]
     },
     "execution_count": 24,
     "metadata": {},
     "output_type": "execute_result"
    },
    {
     "data": {
      "image/png": "[encoded data removed]",
      "text/plain": [
       "<Figure size 1440x504 with 2 Axes>"
      ]
     },
     "metadata": {
      "needs_background": "light"
     },
     "output_type": "display_data"
    }
   ],
   "source": [
    "# Create dataframes\n",
    "train_val_acc_df = pd.DataFrame.from_dict(accuracy_stats).reset_index().melt(id_vars=['index']).rename(columns={\"index\":\"epochs\"})\n",
    "train_val_loss_df = pd.DataFrame.from_dict(loss_stats).reset_index().melt(id_vars=['index']).rename(columns={\"index\":\"epochs\"})\n",
    "# Plot the dataframes\n",
    "fig, axes = plt.subplots(nrows=1, ncols=2, figsize=(20,7))\n",
    "sns.lineplot(data=train_val_acc_df, x = \"epochs\", y=\"value\", hue=\"variable\",  ax=axes[0]).set_title('Train-Val Accuracy/Epoch')\n",
    "sns.lineplot(data=train_val_loss_df, x = \"epochs\", y=\"value\", hue=\"variable\", ax=axes[1]).set_title('Train-Val Loss/Epoch')"
   ]
  },
  {
   "cell_type": "markdown",
   "id": "2bff2893",
   "metadata": {},
   "source": [
    "##### Test the Model"
   ]
  },
  {
   "cell_type": "code",
   "execution_count": 26,
   "id": "bf71c4a8",
   "metadata": {},
   "outputs": [],
   "source": [
    "y_pred_list = []\n",
    "y_test_target_list = []\n",
    "with torch.no_grad():\n",
    "    model.eval()\n",
    "    for X_batch, y_test_target in test_loader:\n",
    "        X_batch = X_batch.to(device)\n",
    "        y_test_pred = model(X_batch)\n",
    "        \n",
    "        _, y_pred_tags = torch.max(y_test_pred, dim = 1)\n",
    "        y_pred_list.append(y_pred_tags.cpu().numpy())\n",
    "        y_test_target_list.append(y_test_target.to(device))\n",
    "        \n",
    "y_pred_list = [a.squeeze().tolist() for a in y_pred_list]"
   ]
  },
  {
   "cell_type": "markdown",
   "id": "f3780953",
   "metadata": {},
   "source": [
    "##### Confusion Matrix"
   ]
  },
  {
   "cell_type": "code",
   "execution_count": 33,
   "id": "81901101",
   "metadata": {},
   "outputs": [
    {
     "data": {
      "image/png": "[encoded data removed]",
      "text/plain": [
       "<Figure size 864x432 with 2 Axes>"
      ]
     },
     "metadata": {
      "needs_background": "light"
     },
     "output_type": "display_data"
    }
   ],
   "source": [
    "plt.figure(figsize=(12, 6))\n",
    "confusion_matrix_df = pd.DataFrame(confusion_matrix(y_test, y_pred_list)).rename(columns=idx2class, index=idx2class)\n",
    "\n",
    "sns.heatmap(confusion_matrix_df, annot=True,fmt=\".1f\",.;)' jy' lpt\n",
    "plt.title('Confusion Matrix for Classification Lebels 1 to 4 \\n')\n",
    "plt.show()"
   ]
  },
  {
   "cell_type": "markdown",
   "id": "f7a7ece6",
   "metadata": {},
   "source": [
    "##### Classification Report"
   ]
  },
  {
   "cell_type": "code",
   "execution_count": 34,
   "id": "771888e3",
   "metadata": {},
   "outputs": [
    {
     "name": "stdout",
     "output_type": "stream",
     "text": [
      "              precision    recall  f1-score   support\n",
      "\n",
      "           0       0.00      0.00      0.00     23601\n",
      "           1       0.19      1.00      0.32     13501\n",
      "           2       0.00      0.00      0.00      7441\n",
      "           3       0.00      0.00      0.00     27285\n",
      "\n",
      "    accuracy                           0.19     71828\n",
      "   macro avg       0.05      0.25      0.08     71828\n",
      "weighted avg       0.04      0.19      0.06     71828\n",
      "\n"
     ]
    }
   ],
   "source": [
    "print(classification_report(y_test, y_pred_list))"
   ]
  },
  {
   "cell_type": "markdown",
   "id": "224ccef3",
   "metadata": {},
   "source": [
    "##### Model Hyper Parameters"
   ]
  },
  {
   "cell_type": "code",
   "execution_count": 35,
   "id": "ebe936d5",
   "metadata": {},
   "outputs": [],
   "source": [
    "EPOCHS = 30\n",
    "BATCH_SIZE = [8,32,64,128]\n",
    "LEARNING_RATE = [0.0001,0.001,0.01]\n",
    "NUM_FEATURES = len(X_data.columns)\n",
    "NUM_CLASSES = 4 # four effective states label"
   ]
  },
  {
   "cell_type": "code",
   "execution_count": 36,
   "id": "a5802fe0",
   "metadata": {},
   "outputs": [],
   "source": [
    "def best_nn_parameters_training_data(train_dataset,val_dataset):\n",
    "    for learning_rate in LEARNING_RATE:\n",
    "        for batch_size in BATCH_SIZE:\n",
    "            \n",
    "            # initialize model\n",
    "            model = MulticlassClassification(num_feature = NUM_FEATURES, num_class=NUM_CLASSES)\n",
    "            model.to(device)\n",
    "            criterion = nn.CrossEntropyLoss(weight=class_weights.to(device))\n",
    "            optimizer = optim.Adam(model.parameters(), lr=learning_rate)\n",
    "            \n",
    "            # get train, val and test loader\n",
    "            train_loader = DataLoader(dataset=train_dataset,batch_size=batch_size,sampler=weighted_sampler)\n",
    "            val_loader = DataLoader(dataset=val_dataset, batch_size=1)\n",
    "            test_loader = DataLoader(dataset=test_dataset, batch_size=1)\n",
    "            \n",
    "            print(\"++++++++++ Begin training.++++++++++++++++++\")\n",
    "            print('Learning Rate: {} Batch Size: {}'.format(learning_rate,batch_size))\n",
    "                    \n",
    "            for e in tqdm(range(1, EPOCHS+1)):\n",
    "    \n",
    "                # TRAINING\n",
    "                train_epoch_loss = 0\n",
    "                train_epoch_acc = 0\n",
    "                model.train()\n",
    "                for X_train_batch, y_train_batch in train_loader:\n",
    "                    \n",
    "                    X_train_batch, y_train_batch = X_train_batch.to(device), y_train_batch.to(device)\n",
    "                    optimizer.zero_grad()\n",
    "        \n",
    "                    y_train_pred = model(X_train_batch)\n",
    "        \n",
    "                    train_loss = criterion(y_train_pred, y_train_batch)\n",
    "                    train_acc = multi_acc(y_train_pred, y_train_batch)\n",
    "        \n",
    "                    train_loss.backward()\n",
    "                    optimizer.step()\n",
    "        \n",
    "                    train_epoch_loss += train_loss.item()\n",
    "                    train_epoch_acc += train_acc.item()\n",
    "        \n",
    "        \n",
    "                # VALIDATION    \n",
    "                with torch.no_grad():\n",
    "        \n",
    "                    val_epoch_loss = 0\n",
    "                    val_epoch_acc = 0\n",
    "        \n",
    "                    model.eval()\n",
    "                    for X_val_batch, y_val_batch in val_loader:\n",
    "                        X_val_batch, y_val_batch = X_val_batch.to(device), y_val_batch.to(device)\n",
    "                        y_val_pred = model(X_val_batch)\n",
    "                        val_loss = criterion(y_val_pred, y_val_batch)\n",
    "                        val_acc = multi_acc(y_val_pred, y_val_batch)\n",
    "                        val_epoch_loss += val_loss.item()\n",
    "                        val_epoch_acc += val_acc.item()\n",
    "    \n",
    "                loss_stats['train'].append(train_epoch_loss/len(train_loader))\n",
    "                loss_stats['val'].append(val_epoch_loss/len(val_loader))\n",
    "                accuracy_stats['train'].append(train_epoch_acc/len(train_loader))\n",
    "                accuracy_stats['val'].append(val_epoch_acc/len(val_loader))\n",
    "            \n",
    "            \n",
    "                print(f'Epoch {e+0:03}:| Train Loss: {train_epoch_loss/len(train_loader):.5f}| Val Loss: {val_epoch_loss/len(val_loader):.5f}| Train Acc: {train_epoch_acc/len(train_loader):.3f}| Val Acc: {val_epoch_acc/len(val_loader):.3f}')"
   ]
  },
  {
   "cell_type": "code",
   "execution_count": null,
   "id": "7384c779",
   "metadata": {},
   "outputs": [
    {
     "name": "stdout",
     "output_type": "stream",
     "text": [
      "++++++++++ Begin training.++++++++++++++++++\n",
      "Learning Rate: 0.0001 Batch Size: 8\n"
     ]
    },
    {
     "data": {
      "application/vnd.jupyter.widget-view+json": {
       "model_id": "1d73e95f7e9c4f4aa1cc3c6e5195d308",
       "version_major": 2,
       "version_minor": 0
      },
      "text/plain": [
       "  0%|          | 0/30 [00:00<?, ?it/s]"
      ]
     },
     "metadata": {},
     "output_type": "display_data"
    },
    {
     "name": "stdout",
     "output_type": "stream",
     "text": [
      "Epoch 001:| Train Loss: 0.26125| Val Loss: 10.28359| Train Acc: 90.181| Val Acc: 33.392\n",
      "Epoch 002:| Train Loss: 0.09598| Val Loss: 13.73266| Train Acc: 96.976| Val Acc: 27.534\n",
      "Epoch 003:| Train Loss: 0.06971| Val Loss: 18.49852| Train Acc: 97.843| Val Acc: 26.518\n",
      "Epoch 004:| Train Loss: 0.05770| Val Loss: 14.70882| Train Acc: 98.273| Val Acc: 31.833\n",
      "Epoch 005:| Train Loss: 0.04976| Val Loss: 22.47841| Train Acc: 98.548| Val Acc: 20.161\n",
      "Epoch 006:| Train Loss: 0.04520| Val Loss: 25.48336| Train Acc: 98.689| Val Acc: 33.743\n",
      "Epoch 007:| Train Loss: 0.04135| Val Loss: 23.17573| Train Acc: 98.790| Val Acc: 25.771\n",
      "Epoch 008:| Train Loss: 0.03745| Val Loss: 24.21984| Train Acc: 98.906| Val Acc: 32.373\n",
      "Epoch 009:| Train Loss: 0.03580| Val Loss: 24.76572| Train Acc: 98.977| Val Acc: 33.653\n",
      "Epoch 010:| Train Loss: 0.03453| Val Loss: 30.00693| Train Acc: 99.023| Val Acc: 34.436\n",
      "Epoch 011:| Train Loss: 0.03203| Val Loss: 19.88232| Train Acc: 99.082| Val Acc: 34.347\n",
      "Epoch 012:| Train Loss: 0.03288| Val Loss: 23.80760| Train Acc: 99.104| Val Acc: 33.046\n",
      "Epoch 013:| Train Loss: 0.03048| Val Loss: 18.82315| Train Acc: 99.152| Val Acc: 33.491\n",
      "Epoch 014:| Train Loss: 0.02897| Val Loss: 22.82953| Train Acc: 99.203| Val Acc: 32.721\n",
      "Epoch 015:| Train Loss: 0.02707| Val Loss: 28.81115| Train Acc: 99.255| Val Acc: 33.611\n",
      "Epoch 016:| Train Loss: 0.02585| Val Loss: 28.88222| Train Acc: 99.267| Val Acc: 34.226\n",
      "Epoch 017:| Train Loss: 0.02568| Val Loss: 30.19672| Train Acc: 99.291| Val Acc: 24.130\n",
      "Epoch 018:| Train Loss: 0.02554| Val Loss: 15.75744| Train Acc: 99.304| Val Acc: 34.204\n",
      "Epoch 019:| Train Loss: 0.02458| Val Loss: 24.30440| Train Acc: 99.330| Val Acc: 33.071\n",
      "Epoch 020:| Train Loss: 0.02381| Val Loss: 27.11899| Train Acc: 99.348| Val Acc: 28.398\n",
      "Epoch 021:| Train Loss: 0.02332| Val Loss: 28.19142| Train Acc: 99.364| Val Acc: 29.688\n",
      "Epoch 022:| Train Loss: 0.02324| Val Loss: 32.58232| Train Acc: 99.374| Val Acc: 30.670\n",
      "Epoch 023:| Train Loss: 0.02203| Val Loss: 35.72406| Train Acc: 99.412| Val Acc: 34.438\n",
      "Epoch 024:| Train Loss: 0.02181| Val Loss: 25.04226| Train Acc: 99.412| Val Acc: 36.104\n",
      "Epoch 025:| Train Loss: 0.02164| Val Loss: 27.11784| Train Acc: 99.416| Val Acc: 34.463\n",
      "Epoch 026:| Train Loss: 0.02134| Val Loss: 27.77786| Train Acc: 99.439| Val Acc: 33.156\n",
      "Epoch 027:| Train Loss: 0.01972| Val Loss: 32.61874| Train Acc: 99.453| Val Acc: 32.911\n",
      "Epoch 028:| Train Loss: 0.02079| Val Loss: 37.05743| Train Acc: 99.459| Val Acc: 28.212\n",
      "Epoch 029:| Train Loss: 0.01941| Val Loss: 32.48866| Train Acc: 99.485| Val Acc: 34.204\n",
      "Epoch 030:| Train Loss: 0.01928| Val Loss: 32.91146| Train Acc: 99.488| Val Acc: 28.010\n",
      "++++++++++ Begin training.++++++++++++++++++\n",
      "Learning Rate: 0.0001 Batch Size: 32\n"
     ]
    },
    {
     "data": {
      "application/vnd.jupyter.widget-view+json": {
       "model_id": "5bc4590c17de4423bb8dde94340547ac",
       "version_major": 2,
       "version_minor": 0
      },
      "text/plain": [
       "  0%|          | 0/30 [00:00<?, ?it/s]"
      ]
     },
     "metadata": {},
     "output_type": "display_data"
    },
    {
     "name": "stdout",
     "output_type": "stream",
     "text": [
      "Epoch 001:| Train Loss: 0.12051| Val Loss: 8.08593| Train Acc: 95.509| Val Acc: 31.885\n",
      "Epoch 002:| Train Loss: 0.02476| Val Loss: 12.73228| Train Acc: 99.218| Val Acc: 21.709\n",
      "Epoch 003:| Train Loss: 0.01619| Val Loss: 11.22532| Train Acc: 99.478| Val Acc: 41.294\n",
      "Epoch 004:| Train Loss: 0.01291| Val Loss: 13.67348| Train Acc: 99.584| Val Acc: 33.405\n",
      "Epoch 005:| Train Loss: 0.01020| Val Loss: 14.99515| Train Acc: 99.666| Val Acc: 27.648\n",
      "Epoch 006:| Train Loss: 0.00892| Val Loss: 18.03015| Train Acc: 99.698| Val Acc: 34.418\n",
      "Epoch 007:| Train Loss: 0.00806| Val Loss: 22.53707| Train Acc: 99.730| Val Acc: 22.060\n",
      "Epoch 008:| Train Loss: 0.00719| Val Loss: 17.27992| Train Acc: 99.754| Val Acc: 31.457\n",
      "Epoch 009:| Train Loss: 0.00653| Val Loss: 21.05456| Train Acc: 99.774| Val Acc: 27.839\n",
      "Epoch 010:| Train Loss: 0.00667| Val Loss: 24.67024| Train Acc: 99.781| Val Acc: 26.960\n",
      "Epoch 011:| Train Loss: 0.00598| Val Loss: 20.83202| Train Acc: 99.802| Val Acc: 46.616\n",
      "Epoch 012:| Train Loss: 0.00562| Val Loss: 25.66674| Train Acc: 99.807| Val Acc: 28.198\n",
      "Epoch 013:| Train Loss: 0.00529| Val Loss: 31.12939| Train Acc: 99.822| Val Acc: 26.008\n",
      "Epoch 014:| Train Loss: 0.00499| Val Loss: 26.25235| Train Acc: 99.827| Val Acc: 28.378\n",
      "Epoch 015:| Train Loss: 0.00516| Val Loss: 31.70176| Train Acc: 99.827| Val Acc: 28.213\n",
      "Epoch 016:| Train Loss: 0.00487| Val Loss: 26.56869| Train Acc: 99.838| Val Acc: 28.171\n",
      "Epoch 017:| Train Loss: 0.00458| Val Loss: 31.36308| Train Acc: 99.844| Val Acc: 25.497\n",
      "Epoch 018:| Train Loss: 0.00442| Val Loss: 32.51022| Train Acc: 99.842| Val Acc: 28.422\n",
      "Epoch 019:| Train Loss: 0.00449| Val Loss: 29.95620| Train Acc: 99.849| Val Acc: 31.268\n",
      "Epoch 020:| Train Loss: 0.00395| Val Loss: 32.24855| Train Acc: 99.859| Val Acc: 27.299\n",
      "Epoch 021:| Train Loss: 0.00421| Val Loss: 33.47556| Train Acc: 99.863| Val Acc: 33.189\n",
      "Epoch 022:| Train Loss: 0.00393| Val Loss: 29.45624| Train Acc: 99.868| Val Acc: 33.992\n",
      "Epoch 023:| Train Loss: 0.00362| Val Loss: 33.96064| Train Acc: 99.874| Val Acc: 29.763\n",
      "Epoch 024:| Train Loss: 0.00356| Val Loss: 32.77697| Train Acc: 99.878| Val Acc: 28.714\n",
      "Epoch 025:| Train Loss: 0.00344| Val Loss: 35.78129| Train Acc: 99.885| Val Acc: 28.985\n",
      "Epoch 026:| Train Loss: 0.00355| Val Loss: 34.33868| Train Acc: 99.874| Val Acc: 30.232\n",
      "Epoch 027:| Train Loss: 0.00349| Val Loss: 33.08900| Train Acc: 99.881| Val Acc: 33.743\n",
      "Epoch 028:| Train Loss: 0.00306| Val Loss: 36.24365| Train Acc: 99.889| Val Acc: 34.427\n",
      "Epoch 029:| Train Loss: 0.00327| Val Loss: 31.52840| Train Acc: 99.885| Val Acc: 33.467\n",
      "Epoch 030:| Train Loss: 0.00324| Val Loss: 35.13671| Train Acc: 99.892| Val Acc: 34.287\n",
      "++++++++++ Begin training.++++++++++++++++++\n",
      "Learning Rate: 0.0001 Batch Size: 64\n"
     ]
    },
    {
     "data": {
      "application/vnd.jupyter.widget-view+json": {
       "model_id": "0dbde4ebe5da4068b03fea30b58b2aa0",
       "version_major": 2,
       "version_minor": 0
      },
      "text/plain": [
       "  0%|          | 0/30 [00:00<?, ?it/s]"
      ]
     },
     "metadata": {},
     "output_type": "display_data"
    },
    {
     "name": "stdout",
     "output_type": "stream",
     "text": [
      "Epoch 001:| Train Loss: 0.11313| Val Loss: 7.14739| Train Acc: 95.690| Val Acc: 34.427\n",
      "Epoch 002:| Train Loss: 0.01598| Val Loss: 9.72040| Train Acc: 99.404| Val Acc: 31.832\n",
      "Epoch 003:| Train Loss: 0.01082| Val Loss: 13.55631| Train Acc: 99.568| Val Acc: 25.196\n",
      "Epoch 004:| Train Loss: 0.00801| Val Loss: 14.35293| Train Acc: 99.676| Val Acc: 28.009\n",
      "Epoch 005:| Train Loss: 0.00681| Val Loss: 15.04252| Train Acc: 99.724| Val Acc: 42.804\n",
      "Epoch 006:| Train Loss: 0.00635| Val Loss: 17.39884| Train Acc: 99.740| Val Acc: 27.351\n",
      "Epoch 007:| Train Loss: 0.00522| Val Loss: 18.53160| Train Acc: 99.771| Val Acc: 27.386\n",
      "Epoch 008:| Train Loss: 0.00474| Val Loss: 21.40074| Train Acc: 99.803| Val Acc: 27.711\n",
      "Epoch 009:| Train Loss: 0.00446| Val Loss: 20.12734| Train Acc: 99.806| Val Acc: 27.649\n",
      "Epoch 010:| Train Loss: 0.00413| Val Loss: 24.05854| Train Acc: 99.824| Val Acc: 28.194\n",
      "Epoch 011:| Train Loss: 0.00373| Val Loss: 24.76730| Train Acc: 99.832| Val Acc: 27.126\n",
      "Epoch 012:| Train Loss: 0.00386| Val Loss: 25.00216| Train Acc: 99.827| Val Acc: 27.314\n",
      "Epoch 013:| Train Loss: 0.00365| Val Loss: 28.36860| Train Acc: 99.840| Val Acc: 26.615\n",
      "Epoch 014:| Train Loss: 0.00315| Val Loss: 25.94768| Train Acc: 99.855| Val Acc: 28.209\n",
      "Epoch 015:| Train Loss: 0.00322| Val Loss: 28.20781| Train Acc: 99.854| Val Acc: 27.166\n",
      "Epoch 016:| Train Loss: 0.00310| Val Loss: 27.63805| Train Acc: 99.865| Val Acc: 27.246\n",
      "Epoch 017:| Train Loss: 0.00311| Val Loss: 24.34933| Train Acc: 99.863| Val Acc: 32.714\n",
      "Epoch 018:| Train Loss: 0.00265| Val Loss: 31.67679| Train Acc: 99.879| Val Acc: 28.007\n",
      "Epoch 019:| Train Loss: 0.00281| Val Loss: 30.87552| Train Acc: 99.866| Val Acc: 27.921\n",
      "Epoch 020:| Train Loss: 0.00262| Val Loss: 28.19991| Train Acc: 99.881| Val Acc: 27.326\n",
      "Epoch 021:| Train Loss: 0.00273| Val Loss: 31.26118| Train Acc: 99.880| Val Acc: 27.088\n",
      "Epoch 022:| Train Loss: 0.00225| Val Loss: 34.57067| Train Acc: 99.892| Val Acc: 28.208\n",
      "Epoch 023:| Train Loss: 0.00246| Val Loss: 31.81237| Train Acc: 99.885| Val Acc: 27.729\n",
      "Epoch 024:| Train Loss: 0.00221| Val Loss: 35.28624| Train Acc: 99.895| Val Acc: 27.424\n",
      "Epoch 025:| Train Loss: 0.00231| Val Loss: 36.82929| Train Acc: 99.893| Val Acc: 26.147\n",
      "Epoch 026:| Train Loss: 0.00212| Val Loss: 35.17147| Train Acc: 99.894| Val Acc: 25.249\n",
      "Epoch 027:| Train Loss: 0.00236| Val Loss: 37.04986| Train Acc: 99.902| Val Acc: 28.195\n",
      "Epoch 028:| Train Loss: 0.00227| Val Loss: 38.04116| Train Acc: 99.897| Val Acc: 27.925\n",
      "Epoch 029:| Train Loss: 0.00215| Val Loss: 37.32519| Train Acc: 99.898| Val Acc: 26.279\n",
      "Epoch 030:| Train Loss: 0.00206| Val Loss: 37.21566| Train Acc: 99.903| Val Acc: 25.831\n",
      "++++++++++ Begin training.++++++++++++++++++\n",
      "Learning Rate: 0.0001 Batch Size: 128\n"
     ]
    },
    {
     "data": {
      "application/vnd.jupyter.widget-view+json": {
       "model_id": "3aa0453d3ad34cf683554772a29889e0",
       "version_major": 2,
       "version_minor": 0
      },
      "text/plain": [
       "  0%|          | 0/30 [00:00<?, ?it/s]"
      ]
     },
     "metadata": {},
     "output_type": "display_data"
    },
    {
     "name": "stdout",
     "output_type": "stream",
     "text": [
      "Epoch 001:| Train Loss: 0.13509| Val Loss: 5.57115| Train Acc: 95.590| Val Acc: 33.648\n",
      "Epoch 002:| Train Loss: 0.01207| Val Loss: 8.16830| Train Acc: 99.568| Val Acc: 33.941\n",
      "Epoch 003:| Train Loss: 0.00908| Val Loss: 12.68143| Train Acc: 99.653| Val Acc: 26.168\n",
      "Epoch 004:| Train Loss: 0.00657| Val Loss: 13.31448| Train Acc: 99.729| Val Acc: 28.194\n",
      "Epoch 005:| Train Loss: 0.00633| Val Loss: 12.63307| Train Acc: 99.744| Val Acc: 29.246\n",
      "Epoch 006:| Train Loss: 0.00526| Val Loss: 14.37641| Train Acc: 99.778| Val Acc: 27.170\n",
      "Epoch 007:| Train Loss: 0.00421| Val Loss: 16.81791| Train Acc: 99.815| Val Acc: 26.820\n",
      "Epoch 008:| Train Loss: 0.00412| Val Loss: 19.32072| Train Acc: 99.822| Val Acc: 26.866\n",
      "Epoch 009:| Train Loss: 0.00347| Val Loss: 15.54797| Train Acc: 99.844| Val Acc: 28.655\n",
      "Epoch 010:| Train Loss: 0.00350| Val Loss: 21.07119| Train Acc: 99.850| Val Acc: 26.382\n",
      "Epoch 011:| Train Loss: 0.00320| Val Loss: 19.67310| Train Acc: 99.852| Val Acc: 27.855\n",
      "Epoch 012:| Train Loss: 0.00283| Val Loss: 18.86581| Train Acc: 99.866| Val Acc: 45.442\n",
      "Epoch 013:| Train Loss: 0.00300| Val Loss: 19.92157| Train Acc: 99.865| Val Acc: 27.375\n",
      "Epoch 014:| Train Loss: 0.00239| Val Loss: 20.20434| Train Acc: 99.892| Val Acc: 27.688\n",
      "Epoch 015:| Train Loss: 0.00255| Val Loss: 20.55050| Train Acc: 99.878| Val Acc: 28.220\n",
      "Epoch 016:| Train Loss: 0.00261| Val Loss: 22.17071| Train Acc: 99.886| Val Acc: 26.913\n",
      "Epoch 017:| Train Loss: 0.00227| Val Loss: 23.09259| Train Acc: 99.901| Val Acc: 25.521\n",
      "Epoch 018:| Train Loss: 0.00214| Val Loss: 19.71264| Train Acc: 99.900| Val Acc: 27.910\n",
      "Epoch 019:| Train Loss: 0.00222| Val Loss: 25.53435| Train Acc: 99.900| Val Acc: 27.674\n",
      "Epoch 020:| Train Loss: 0.00209| Val Loss: 26.34623| Train Acc: 99.903| Val Acc: 27.229\n",
      "Epoch 021:| Train Loss: 0.00203| Val Loss: 24.83976| Train Acc: 99.907| Val Acc: 27.681\n",
      "Epoch 022:| Train Loss: 0.00195| Val Loss: 26.41447| Train Acc: 99.911| Val Acc: 26.030\n",
      "Epoch 023:| Train Loss: 0.00190| Val Loss: 27.77180| Train Acc: 99.915| Val Acc: 26.172\n",
      "Epoch 024:| Train Loss: 0.00169| Val Loss: 26.49397| Train Acc: 99.919| Val Acc: 27.730\n",
      "Epoch 025:| Train Loss: 0.00181| Val Loss: 28.52613| Train Acc: 99.916| Val Acc: 27.429\n",
      "Epoch 026:| Train Loss: 0.00170| Val Loss: 22.41093| Train Acc: 99.922| Val Acc: 27.509\n",
      "Epoch 027:| Train Loss: 0.00173| Val Loss: 29.90519| Train Acc: 99.915| Val Acc: 26.076\n",
      "Epoch 028:| Train Loss: 0.00166| Val Loss: 30.72019| Train Acc: 99.924| Val Acc: 28.187\n",
      "Epoch 029:| Train Loss: 0.00152| Val Loss: 34.21728| Train Acc: 99.924| Val Acc: 27.292\n",
      "Epoch 030:| Train Loss: 0.00161| Val Loss: 33.57362| Train Acc: 99.927| Val Acc: 28.210\n",
      "++++++++++ Begin training.++++++++++++++++++\n",
      "Learning Rate: 0.001 Batch Size: 8\n"
     ]
    },
    {
     "data": {
      "application/vnd.jupyter.widget-view+json": {
       "model_id": "a85e0f8e1e784fd78a1bd43157854699",
       "version_major": 2,
       "version_minor": 0
      },
      "text/plain": [
       "  0%|          | 0/30 [00:00<?, ?it/s]"
      ]
     },
     "metadata": {},
     "output_type": "display_data"
    },
    {
     "name": "stdout",
     "output_type": "stream",
     "text": [
      "Epoch 001:| Train Loss: 0.25291| Val Loss: 11.39182| Train Acc: 90.800| Val Acc: 33.170\n",
      "Epoch 002:| Train Loss: 0.11636| Val Loss: 11.34301| Train Acc: 96.399| Val Acc: 28.701\n",
      "Epoch 003:| Train Loss: 0.08809| Val Loss: 15.02532| Train Acc: 97.326| Val Acc: 23.583\n",
      "Epoch 004:| Train Loss: 0.07278| Val Loss: 13.16319| Train Acc: 97.850| Val Acc: 28.808\n",
      "Epoch 005:| Train Loss: 0.06500| Val Loss: 28.72522| Train Acc: 98.129| Val Acc: 33.430\n",
      "Epoch 006:| Train Loss: 0.05687| Val Loss: 19.03406| Train Acc: 98.362| Val Acc: 31.204\n",
      "Epoch 007:| Train Loss: 0.05323| Val Loss: 13.71124| Train Acc: 98.475| Val Acc: 28.982\n",
      "Epoch 008:| Train Loss: 0.04748| Val Loss: 20.87838| Train Acc: 98.661| Val Acc: 34.442\n",
      "Epoch 009:| Train Loss: 0.04407| Val Loss: 19.35111| Train Acc: 98.772| Val Acc: 33.346\n",
      "Epoch 010:| Train Loss: 0.04222| Val Loss: 19.62509| Train Acc: 98.807| Val Acc: 34.498\n",
      "Epoch 011:| Train Loss: 0.03953| Val Loss: 19.52562| Train Acc: 98.905| Val Acc: 34.378\n",
      "Epoch 012:| Train Loss: 0.03733| Val Loss: 17.14100| Train Acc: 98.965| Val Acc: 33.731\n",
      "Epoch 013:| Train Loss: 0.03687| Val Loss: 25.38297| Train Acc: 99.003| Val Acc: 34.460\n",
      "Epoch 014:| Train Loss: 0.03473| Val Loss: 25.82791| Train Acc: 99.060| Val Acc: 50.647\n",
      "Epoch 015:| Train Loss: 0.03334| Val Loss: 18.51688| Train Acc: 99.095| Val Acc: 36.161\n",
      "Epoch 016:| Train Loss: 0.03183| Val Loss: 30.75732| Train Acc: 99.140| Val Acc: 34.429\n",
      "Epoch 017:| Train Loss: 0.03078| Val Loss: 22.18385| Train Acc: 99.152| Val Acc: 27.409\n",
      "Epoch 018:| Train Loss: 0.03009| Val Loss: 14.61225| Train Acc: 99.175| Val Acc: 33.818\n",
      "Epoch 019:| Train Loss: 0.02877| Val Loss: 25.42494| Train Acc: 99.221| Val Acc: 33.050\n",
      "Epoch 020:| Train Loss: 0.02805| Val Loss: 15.44824| Train Acc: 99.251| Val Acc: 34.641\n",
      "Epoch 021:| Train Loss: 0.02782| Val Loss: 28.96293| Train Acc: 99.259| Val Acc: 34.468\n",
      "Epoch 022:| Train Loss: 0.02669| Val Loss: 30.80173| Train Acc: 99.269| Val Acc: 33.868\n",
      "Epoch 023:| Train Loss: 0.02677| Val Loss: 40.71316| Train Acc: 99.288| Val Acc: 33.239\n",
      "Epoch 024:| Train Loss: 0.02560| Val Loss: 21.48661| Train Acc: 99.313| Val Acc: 34.449\n",
      "Epoch 025:| Train Loss: 0.02527| Val Loss: 27.62645| Train Acc: 99.332| Val Acc: 34.464\n",
      "Epoch 026:| Train Loss: 0.02476| Val Loss: 42.20431| Train Acc: 99.343| Val Acc: 18.511\n",
      "Epoch 027:| Train Loss: 0.02343| Val Loss: 35.63212| Train Acc: 99.371| Val Acc: 35.098\n",
      "Epoch 028:| Train Loss: 0.02417| Val Loss: 27.02568| Train Acc: 99.365| Val Acc: 32.350\n",
      "Epoch 029:| Train Loss: 0.02350| Val Loss: 39.39516| Train Acc: 99.375| Val Acc: 39.323\n",
      "Epoch 030:| Train Loss: 0.02292| Val Loss: 32.70521| Train Acc: 99.381| Val Acc: 34.471\n",
      "++++++++++ Begin training.++++++++++++++++++\n",
      "Learning Rate: 0.001 Batch Size: 32\n"
     ]
    },
    {
     "data": {
      "application/vnd.jupyter.widget-view+json": {
       "model_id": "0fea929a89f84060bbc1da2a9e274fdb",
       "version_major": 2,
       "version_minor": 0
      },
      "text/plain": [
       "  0%|          | 0/30 [00:00<?, ?it/s]"
      ]
     },
     "metadata": {},
     "output_type": "display_data"
    },
    {
     "name": "stdout",
     "output_type": "stream",
     "text": [
      "Epoch 001:| Train Loss: 0.08558| Val Loss: 16.60658| Train Acc: 96.846| Val Acc: 25.562\n",
      "Epoch 002:| Train Loss: 0.02790| Val Loss: 17.38090| Train Acc: 99.098| Val Acc: 26.639\n",
      "Epoch 003:| Train Loss: 0.01883| Val Loss: 27.37323| Train Acc: 99.392| Val Acc: 27.365\n",
      "Epoch 004:| Train Loss: 0.01525| Val Loss: 32.41953| Train Acc: 99.505| Val Acc: 27.108\n",
      "Epoch 005:| Train Loss: 0.01268| Val Loss: 32.30823| Train Acc: 99.602| Val Acc: 27.006\n",
      "Epoch 006:| Train Loss: 0.01116| Val Loss: 35.25083| Train Acc: 99.646| Val Acc: 27.509\n",
      "Epoch 007:| Train Loss: 0.00975| Val Loss: 31.45036| Train Acc: 99.690| Val Acc: 27.808\n",
      "Epoch 008:| Train Loss: 0.01007| Val Loss: 26.79504| Train Acc: 99.693| Val Acc: 26.906\n",
      "Epoch 009:| Train Loss: 0.00839| Val Loss: 32.12685| Train Acc: 99.730| Val Acc: 27.141\n",
      "Epoch 010:| Train Loss: 0.00751| Val Loss: 31.36553| Train Acc: 99.749| Val Acc: 24.730\n",
      "Epoch 011:| Train Loss: 0.00758| Val Loss: 25.52389| Train Acc: 99.755| Val Acc: 27.907\n",
      "Epoch 012:| Train Loss: 0.00679| Val Loss: 37.38432| Train Acc: 99.779| Val Acc: 27.318\n",
      "Epoch 013:| Train Loss: 0.00678| Val Loss: 27.34894| Train Acc: 99.776| Val Acc: 27.154\n",
      "Epoch 014:| Train Loss: 0.00683| Val Loss: 32.06538| Train Acc: 99.784| Val Acc: 26.328\n",
      "Epoch 015:| Train Loss: 0.00629| Val Loss: 33.67023| Train Acc: 99.802| Val Acc: 25.491\n",
      "Epoch 016:| Train Loss: 0.00568| Val Loss: 35.16679| Train Acc: 99.815| Val Acc: 25.831\n",
      "Epoch 017:| Train Loss: 0.00563| Val Loss: 32.29446| Train Acc: 99.821| Val Acc: 25.840\n",
      "Epoch 018:| Train Loss: 0.00546| Val Loss: 37.40850| Train Acc: 99.810| Val Acc: 26.547\n",
      "Epoch 019:| Train Loss: 0.00516| Val Loss: 38.87085| Train Acc: 99.831| Val Acc: 26.817\n",
      "Epoch 020:| Train Loss: 0.00521| Val Loss: 42.17737| Train Acc: 99.838| Val Acc: 27.306\n",
      "Epoch 021:| Train Loss: 0.00512| Val Loss: 33.47050| Train Acc: 99.835| Val Acc: 27.272\n",
      "Epoch 022:| Train Loss: 0.00469| Val Loss: 40.25842| Train Acc: 99.845| Val Acc: 25.608\n",
      "Epoch 023:| Train Loss: 0.00465| Val Loss: 38.59908| Train Acc: 99.848| Val Acc: 28.297\n",
      "Epoch 024:| Train Loss: 0.00444| Val Loss: 47.43313| Train Acc: 99.853| Val Acc: 25.095\n",
      "Epoch 025:| Train Loss: 0.00426| Val Loss: 39.55377| Train Acc: 99.859| Val Acc: 27.001\n",
      "Epoch 026:| Train Loss: 0.00421| Val Loss: 45.86729| Train Acc: 99.855| Val Acc: 28.183\n",
      "Epoch 027:| Train Loss: 0.00408| Val Loss: 36.43550| Train Acc: 99.869| Val Acc: 27.218\n",
      "Epoch 028:| Train Loss: 0.00403| Val Loss: 41.54011| Train Acc: 99.864| Val Acc: 27.688\n",
      "Epoch 029:| Train Loss: 0.00374| Val Loss: 50.87511| Train Acc: 99.876| Val Acc: 27.208\n",
      "Epoch 030:| Train Loss: 0.00401| Val Loss: 45.75016| Train Acc: 99.866| Val Acc: 26.758\n",
      "++++++++++ Begin training.++++++++++++++++++\n",
      "Learning Rate: 0.001 Batch Size: 64\n"
     ]
    },
    {
     "data": {
      "application/vnd.jupyter.widget-view+json": {
       "model_id": "96133c4885cc48bd9c378207687474a6",
       "version_major": 2,
       "version_minor": 0
      },
      "text/plain": [
       "  0%|          | 0/30 [00:00<?, ?it/s]"
      ]
     },
     "metadata": {},
     "output_type": "display_data"
    },
    {
     "name": "stdout",
     "output_type": "stream",
     "text": [
      "Epoch 001:| Train Loss: 0.06482| Val Loss: 15.37686| Train Acc: 97.398| Val Acc: 27.771\n",
      "Epoch 002:| Train Loss: 0.01869| Val Loss: 19.96074| Train Acc: 99.259| Val Acc: 25.711\n",
      "Epoch 003:| Train Loss: 0.01321| Val Loss: 25.26401| Train Acc: 99.484| Val Acc: 25.636\n",
      "Epoch 004:| Train Loss: 0.01045| Val Loss: 28.02114| Train Acc: 99.583| Val Acc: 25.759\n",
      "Epoch 005:| Train Loss: 0.00887| Val Loss: 29.86486| Train Acc: 99.651| Val Acc: 26.884\n",
      "Epoch 006:| Train Loss: 0.00703| Val Loss: 38.21242| Train Acc: 99.707| Val Acc: 24.841\n",
      "Epoch 007:| Train Loss: 0.00645| Val Loss: 37.07355| Train Acc: 99.733| Val Acc: 27.616\n",
      "Epoch 008:| Train Loss: 0.00588| Val Loss: 38.07072| Train Acc: 99.755| Val Acc: 27.010\n",
      "Epoch 009:| Train Loss: 0.00587| Val Loss: 50.37356| Train Acc: 99.770| Val Acc: 27.189\n",
      "Epoch 010:| Train Loss: 0.00554| Val Loss: 49.78410| Train Acc: 99.758| Val Acc: 27.125\n",
      "Epoch 011:| Train Loss: 0.00494| Val Loss: 46.09323| Train Acc: 99.802| Val Acc: 25.653\n",
      "Epoch 012:| Train Loss: 0.00442| Val Loss: 46.82094| Train Acc: 99.804| Val Acc: 27.471\n",
      "Epoch 013:| Train Loss: 0.00422| Val Loss: 58.89837| Train Acc: 99.818| Val Acc: 29.548\n",
      "Epoch 014:| Train Loss: 0.00436| Val Loss: 46.03681| Train Acc: 99.823| Val Acc: 25.504\n",
      "Epoch 015:| Train Loss: 0.00410| Val Loss: 52.64827| Train Acc: 99.839| Val Acc: 27.087\n",
      "Epoch 016:| Train Loss: 0.00356| Val Loss: 53.28970| Train Acc: 99.837| Val Acc: 25.603\n",
      "Epoch 017:| Train Loss: 0.00355| Val Loss: 61.90078| Train Acc: 99.839| Val Acc: 26.710\n",
      "Epoch 018:| Train Loss: 0.00362| Val Loss: 42.37621| Train Acc: 99.840| Val Acc: 26.761\n",
      "Epoch 019:| Train Loss: 0.00357| Val Loss: 50.14361| Train Acc: 99.856| Val Acc: 25.878\n",
      "Epoch 020:| Train Loss: 0.00331| Val Loss: 60.26004| Train Acc: 99.864| Val Acc: 27.500\n",
      "Epoch 021:| Train Loss: 0.00307| Val Loss: 46.03991| Train Acc: 99.872| Val Acc: 25.902\n",
      "Epoch 022:| Train Loss: 0.00313| Val Loss: 49.68207| Train Acc: 99.863| Val Acc: 26.973\n",
      "Epoch 023:| Train Loss: 0.00308| Val Loss: 53.23482| Train Acc: 99.869| Val Acc: 27.734\n",
      "Epoch 024:| Train Loss: 0.00323| Val Loss: 61.05358| Train Acc: 99.863| Val Acc: 27.344\n",
      "Epoch 025:| Train Loss: 0.00282| Val Loss: 59.58107| Train Acc: 99.875| Val Acc: 27.290\n",
      "Epoch 026:| Train Loss: 0.00272| Val Loss: 61.99910| Train Acc: 99.887| Val Acc: 25.873\n",
      "Epoch 027:| Train Loss: 0.00277| Val Loss: 65.24866| Train Acc: 99.883| Val Acc: 30.675\n",
      "Epoch 028:| Train Loss: 0.00256| Val Loss: 69.30583| Train Acc: 99.888| Val Acc: 25.874\n",
      "Epoch 029:| Train Loss: 0.00257| Val Loss: 66.75405| Train Acc: 99.887| Val Acc: 27.179\n",
      "Epoch 030:| Train Loss: 0.00263| Val Loss: 53.75023| Train Acc: 99.883| Val Acc: 25.922\n",
      "++++++++++ Begin training.++++++++++++++++++\n",
      "Learning Rate: 0.001 Batch Size: 128\n"
     ]
    },
    {
     "data": {
      "application/vnd.jupyter.widget-view+json": {
       "model_id": "8c24d069742448d09ee4bc49e49bf6f5",
       "version_major": 2,
       "version_minor": 0
      },
      "text/plain": [
       "  0%|          | 0/30 [00:00<?, ?it/s]"
      ]
     },
     "metadata": {},
     "output_type": "display_data"
    },
    {
     "name": "stdout",
     "output_type": "stream",
     "text": [
      "Epoch 001:| Train Loss: 0.05839| Val Loss: 13.75157| Train Acc: 97.622| Val Acc: 25.743\n",
      "Epoch 002:| Train Loss: 0.01590| Val Loss: 16.49511| Train Acc: 99.385| Val Acc: 25.684\n",
      "Epoch 003:| Train Loss: 0.01144| Val Loss: 21.82110| Train Acc: 99.566| Val Acc: 25.546\n",
      "Epoch 004:| Train Loss: 0.00901| Val Loss: 25.53306| Train Acc: 99.629| Val Acc: 25.899\n",
      "Epoch 005:| Train Loss: 0.00647| Val Loss: 34.35349| Train Acc: 99.720| Val Acc: 24.841\n",
      "Epoch 006:| Train Loss: 0.00622| Val Loss: 36.25753| Train Acc: 99.737| Val Acc: 26.214\n",
      "Epoch 007:| Train Loss: 0.00587| Val Loss: 34.92575| Train Acc: 99.758| Val Acc: 25.340\n",
      "Epoch 008:| Train Loss: 0.00490| Val Loss: 34.39692| Train Acc: 99.786| Val Acc: 28.075\n",
      "Epoch 009:| Train Loss: 0.00437| Val Loss: 39.44485| Train Acc: 99.813| Val Acc: 27.244\n",
      "Epoch 010:| Train Loss: 0.00420| Val Loss: 39.67770| Train Acc: 99.819| Val Acc: 27.159\n",
      "Epoch 011:| Train Loss: 0.00392| Val Loss: 40.30451| Train Acc: 99.826| Val Acc: 27.535\n",
      "Epoch 012:| Train Loss: 0.00365| Val Loss: 41.95647| Train Acc: 99.844| Val Acc: 25.546\n",
      "Epoch 013:| Train Loss: 0.00348| Val Loss: 50.13490| Train Acc: 99.847| Val Acc: 25.977\n",
      "Epoch 014:| Train Loss: 0.00332| Val Loss: 55.91453| Train Acc: 99.851| Val Acc: 25.752\n",
      "Epoch 015:| Train Loss: 0.00315| Val Loss: 64.51996| Train Acc: 99.865| Val Acc: 25.670\n",
      "Epoch 016:| Train Loss: 0.00310| Val Loss: 60.44202| Train Acc: 99.861| Val Acc: 27.658\n",
      "Epoch 017:| Train Loss: 0.00249| Val Loss: 58.48375| Train Acc: 99.893| Val Acc: 26.118\n",
      "Epoch 018:| Train Loss: 0.00280| Val Loss: 60.91485| Train Acc: 99.882| Val Acc: 27.297\n",
      "Epoch 019:| Train Loss: 0.00255| Val Loss: 82.23499| Train Acc: 99.890| Val Acc: 27.634\n",
      "Epoch 020:| Train Loss: 0.00275| Val Loss: 66.72588| Train Acc: 99.875| Val Acc: 26.967\n",
      "Epoch 021:| Train Loss: 0.00213| Val Loss: 67.02371| Train Acc: 99.905| Val Acc: 27.793\n",
      "Epoch 022:| Train Loss: 0.00251| Val Loss: 55.86529| Train Acc: 99.895| Val Acc: 26.701\n",
      "Epoch 023:| Train Loss: 0.00250| Val Loss: 58.75895| Train Acc: 99.890| Val Acc: 25.987\n",
      "Epoch 024:| Train Loss: 0.00227| Val Loss: 59.20732| Train Acc: 99.899| Val Acc: 25.667\n",
      "Epoch 025:| Train Loss: 0.00213| Val Loss: 72.03901| Train Acc: 99.906| Val Acc: 27.453\n",
      "Epoch 026:| Train Loss: 0.00214| Val Loss: 57.46171| Train Acc: 99.910| Val Acc: 26.374\n",
      "Epoch 027:| Train Loss: 0.00190| Val Loss: 58.65490| Train Acc: 99.908| Val Acc: 25.852\n",
      "Epoch 028:| Train Loss: 0.00214| Val Loss: 57.23581| Train Acc: 99.914| Val Acc: 26.907\n",
      "Epoch 029:| Train Loss: 0.00185| Val Loss: 61.13751| Train Acc: 99.914| Val Acc: 27.306\n",
      "Epoch 030:| Train Loss: 0.00193| Val Loss: 52.96169| Train Acc: 99.911| Val Acc: 25.849\n",
      "++++++++++ Begin training.++++++++++++++++++\n",
      "Learning Rate: 0.01 Batch Size: 8\n"
     ]
    },
    {
     "data": {
      "application/vnd.jupyter.widget-view+json": {
       "model_id": "6f6bc45fbc6e4a36a2d7d76109c1a44d",
       "version_major": 2,
       "version_minor": 0
      },
      "text/plain": [
       "  0%|          | 0/30 [00:00<?, ?it/s]"
      ]
     },
     "metadata": {},
     "output_type": "display_data"
    },
    {
     "name": "stdout",
     "output_type": "stream",
     "text": [
      "Epoch 001:| Train Loss: 0.35013| Val Loss: 13.70260| Train Acc: 86.704| Val Acc: 23.588\n",
      "Epoch 002:| Train Loss: 0.17975| Val Loss: 14.04639| Train Acc: 94.204| Val Acc: 25.781\n",
      "Epoch 003:| Train Loss: 0.14269| Val Loss: 10.42567| Train Acc: 95.540| Val Acc: 25.291\n",
      "Epoch 004:| Train Loss: 0.12001| Val Loss: 13.40708| Train Acc: 96.300| Val Acc: 28.213\n",
      "Epoch 005:| Train Loss: 0.10835| Val Loss: 11.63030| Train Acc: 96.707| Val Acc: 27.985\n",
      "Epoch 006:| Train Loss: 0.09714| Val Loss: 20.54278| Train Acc: 97.056| Val Acc: 33.753\n",
      "Epoch 007:| Train Loss: 0.08852| Val Loss: 17.47196| Train Acc: 97.304| Val Acc: 32.805\n",
      "Epoch 008:| Train Loss: 0.08372| Val Loss: 8.25832| Train Acc: 97.510| Val Acc: 28.423\n",
      "Epoch 009:| Train Loss: 0.07715| Val Loss: 14.50626| Train Acc: 97.679| Val Acc: 34.404\n",
      "Epoch 010:| Train Loss: 0.07451| Val Loss: 20.27769| Train Acc: 97.824| Val Acc: 34.357\n",
      "Epoch 011:| Train Loss: 0.07097| Val Loss: 16.78807| Train Acc: 97.891| Val Acc: 34.407\n",
      "Epoch 012:| Train Loss: 0.06727| Val Loss: 18.39746| Train Acc: 98.016| Val Acc: 29.816\n",
      "Epoch 013:| Train Loss: 0.06628| Val Loss: 17.65020| Train Acc: 98.058| Val Acc: 28.210\n",
      "Epoch 014:| Train Loss: 0.06402| Val Loss: 15.90744| Train Acc: 98.078| Val Acc: 29.172\n",
      "Epoch 015:| Train Loss: 0.06003| Val Loss: 15.24369| Train Acc: 98.210| Val Acc: 34.480\n"
     ]
    }
   ],
   "source": [
    "best_nn_parameters_training_data(train_dataset,val_dataset)"
   ]
  },
  {
   "cell_type": "code",
   "execution_count": null,
   "id": "175d933a",
   "metadata": {},
   "outputs": [],
   "source": []
  }
 ],
 "metadata": {
  "kernelspec": {
   "display_name": "Python 3 (ipykernel)",
   "language": "python",
   "name": "python3"
  },
  "language_info": {
   "codemirror_mode": {
    "name": "ipython",
    "version": 3
   },
   "file_extension": ".py",
   "mimetype": "text/x-python",
   "name": "python",
   "nbconvert_exporter": "python",
   "pygments_lexer": "ipython3",
   "version": "3.8.12"
  }
 },
 "nbformat": 4,
 "nbformat_minor": 5
}
